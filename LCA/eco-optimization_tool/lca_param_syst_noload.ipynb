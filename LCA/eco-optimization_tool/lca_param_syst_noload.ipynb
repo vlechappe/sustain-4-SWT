{
 "cells": [
  {
   "cell_type": "markdown",
   "id": "f8e1625c-57c3-4a49-be2c-8f0934947375",
   "metadata": {},
   "source": [
    "This project aims at computing the LCA of several designs of Small Wind Turbines (SWT) in order to highlight some compromises between tower height and rotor diameter. It is focused on the design of Piggott wind turbines given in the handbook \"Construire une éolienne Piggott\" (\"Build a Piggott wind turbine\") adapted from the book \"A Wind Turbine Recipe Book\" of Hugh Piggott by the association Tripalium published in 2023. All the data come from this handbook. "
   ]
  },
  {
   "cell_type": "markdown",
   "id": "cb5cf276-a682-4c90-9687-f1086eb58d98",
   "metadata": {},
   "source": [
    "# Initialization of the project"
   ]
  },
  {
   "cell_type": "code",
   "execution_count": 1,
   "id": "60a13fdd-f8a5-4b0c-9f8c-ff4972078908",
   "metadata": {},
   "outputs": [
    {
     "name": "stderr",
     "output_type": "stream",
     "text": [
      "[WARNING] Db bdd_syst was here. Reseting it\n"
     ]
    },
    {
     "data": {
      "text/html": [
       "<div>\n",
       "<style scoped>\n",
       "    .dataframe tbody tr th:only-of-type {\n",
       "        vertical-align: middle;\n",
       "    }\n",
       "\n",
       "    .dataframe tbody tr th {\n",
       "        vertical-align: top;\n",
       "    }\n",
       "\n",
       "    .dataframe thead th {\n",
       "        text-align: right;\n",
       "    }\n",
       "</style>\n",
       "<table border=\"1\" class=\"dataframe\">\n",
       "  <thead>\n",
       "    <tr style=\"text-align: right;\">\n",
       "      <th></th>\n",
       "      <th>backend</th>\n",
       "      <th>nb_activities</th>\n",
       "      <th>type</th>\n",
       "    </tr>\n",
       "    <tr>\n",
       "      <th>name</th>\n",
       "      <th></th>\n",
       "      <th></th>\n",
       "      <th></th>\n",
       "    </tr>\n",
       "  </thead>\n",
       "  <tbody>\n",
       "    <tr>\n",
       "      <th>biosphere3</th>\n",
       "      <td>sqlite</td>\n",
       "      <td>4430</td>\n",
       "      <td>biosphere</td>\n",
       "    </tr>\n",
       "    <tr>\n",
       "      <th>ecoinvent-3.8-cutoff</th>\n",
       "      <td>sqlite</td>\n",
       "      <td>19565</td>\n",
       "      <td>background</td>\n",
       "    </tr>\n",
       "    <tr>\n",
       "      <th>bdd_syst</th>\n",
       "      <td>sqlite</td>\n",
       "      <td>0</td>\n",
       "      <td>foreground</td>\n",
       "    </tr>\n",
       "  </tbody>\n",
       "</table>\n",
       "</div>"
      ],
      "text/plain": [
       "                     backend  nb_activities        type\n",
       "name                                                   \n",
       "biosphere3            sqlite           4430   biosphere\n",
       "ecoinvent-3.8-cutoff  sqlite          19565  background\n",
       "bdd_syst              sqlite              0  foreground"
      ]
     },
     "execution_count": 1,
     "metadata": {},
     "output_type": "execute_result"
    }
   ],
   "source": [
    "from brightway2 import *\n",
    "\n",
    "import bw2data as bd\n",
    "import bw2io as bi\n",
    "import bw2calc as bc\n",
    "import lca_algebraic as agb\n",
    "\n",
    "import numpy as np\n",
    "import pandas as pd \n",
    "import matplotlib.pyplot as plt\n",
    "from matplotlib import colormaps\n",
    "\n",
    "import sympy as sp\n",
    "from sklearn.metrics import r2_score\n",
    "\n",
    "\n",
    "\n",
    "#bi.bw2setup()# setup a project, only when you begin it => import the Biosphere database\n",
    "\n",
    "# To do : update the name of the brightway project\n",
    "NAME_PROJECT='swt_parametric_lca'\n",
    "\n",
    "# To do : update the name of the user database that will be stored in the brightway project\n",
    "DB_SYST = 'bdd_syst'\n",
    "\n",
    "#Open a brightway project associated with the project name chosen\n",
    "bd.projects.set_current(NAME_PROJECT)\n",
    "bd.projects.current\n",
    "\n",
    "# Reset the database, create it if it doesn't exist\n",
    "agb.resetDb(DB_SYST)\n",
    "\n",
    "# Reset the definition of all parameters \n",
    "agb.resetParams()\n",
    "\n",
    "# Print the databases that have been set up with lca_algebraic function\n",
    "agb.list_databases() "
   ]
  },
  {
   "cell_type": "markdown",
   "id": "c5dc0daf-1767-461a-a6fa-082aaa1b3ddc",
   "metadata": {},
   "source": [
    "## Functional unit"
   ]
  },
  {
   "cell_type": "markdown",
   "id": "2099f10e-de97-40d9-bfc6-5eafd259ce0f",
   "metadata": {},
   "source": [
    "The functional unit (FU) of our LCA is the quantity of energy produced during the lifetime of the wind turbine, which is 20 years. The purpose of this part is to create a function which calculates this FU from the rotor diameter and the hub height of the wind turbine.\n",
    "We will use the estimation of the Annual Energy Production (AEP) in kWh of the different wind turbines of the manual, given in Table 1 p9. Let's report it in a dataframe."
   ]
  },
  {
   "cell_type": "code",
   "execution_count": 2,
   "id": "065beea7-61f6-457d-9875-c6b5ab8ae9d4",
   "metadata": {},
   "outputs": [
    {
     "data": {
      "text/html": [
       "<div>\n",
       "<style scoped>\n",
       "    .dataframe tbody tr th:only-of-type {\n",
       "        vertical-align: middle;\n",
       "    }\n",
       "\n",
       "    .dataframe tbody tr th {\n",
       "        vertical-align: top;\n",
       "    }\n",
       "\n",
       "    .dataframe thead th {\n",
       "        text-align: right;\n",
       "    }\n",
       "</style>\n",
       "<table border=\"1\" class=\"dataframe\">\n",
       "  <thead>\n",
       "    <tr style=\"text-align: right;\">\n",
       "      <th></th>\n",
       "      <th>Windspeed [m/s]\\Diameter [mm]</th>\n",
       "      <th>1800</th>\n",
       "      <th>2400</th>\n",
       "      <th>3000</th>\n",
       "      <th>3600</th>\n",
       "      <th>4200</th>\n",
       "    </tr>\n",
       "  </thead>\n",
       "  <tbody>\n",
       "    <tr>\n",
       "      <th>0</th>\n",
       "      <td>3</td>\n",
       "      <td>144</td>\n",
       "      <td>264</td>\n",
       "      <td>408</td>\n",
       "      <td>588</td>\n",
       "      <td>804</td>\n",
       "    </tr>\n",
       "    <tr>\n",
       "      <th>1</th>\n",
       "      <td>4</td>\n",
       "      <td>360</td>\n",
       "      <td>648</td>\n",
       "      <td>1020</td>\n",
       "      <td>1464</td>\n",
       "      <td>1992</td>\n",
       "    </tr>\n",
       "    <tr>\n",
       "      <th>2</th>\n",
       "      <td>5</td>\n",
       "      <td>636</td>\n",
       "      <td>1116</td>\n",
       "      <td>1752</td>\n",
       "      <td>2520</td>\n",
       "      <td>3432</td>\n",
       "    </tr>\n",
       "    <tr>\n",
       "      <th>3</th>\n",
       "      <td>6</td>\n",
       "      <td>888</td>\n",
       "      <td>1572</td>\n",
       "      <td>2460</td>\n",
       "      <td>3552</td>\n",
       "      <td>4824</td>\n",
       "    </tr>\n",
       "  </tbody>\n",
       "</table>\n",
       "</div>"
      ],
      "text/plain": [
       "   Windspeed [m/s]\\Diameter [mm]  1800  2400  3000  3600  4200\n",
       "0                              3   144   264   408   588   804\n",
       "1                              4   360   648  1020  1464  1992\n",
       "2                              5   636  1116  1752  2520  3432\n",
       "3                              6   888  1572  2460  3552  4824"
      ]
     },
     "execution_count": 2,
     "metadata": {},
     "output_type": "execute_result"
    }
   ],
   "source": [
    "AEP_df = pd.DataFrame({'Windspeed [m/s]\\Diameter [mm]' : [3,4,5,6],1800 : [144,360,636,888],2400 : [264,648,1116,1572],3000 :[408,1020,1752,2460],3600 : [588,1464,2520,3552],4200 : [804,1992,3432,4824]})\n",
    "AEP_df.set_index = [3,4,5,6]\n",
    "AEP_df"
   ]
  },
  {
   "cell_type": "markdown",
   "id": "af37d21b-4603-408f-b56a-e340a0ae4f61",
   "metadata": {},
   "source": [
    "Let us calculate the AEP per unit of swept area for each turbine and find its average value."
   ]
  },
  {
   "cell_type": "code",
   "execution_count": 3,
   "id": "47614317-9839-44e9-bcc7-2f725b0d5642",
   "metadata": {},
   "outputs": [
    {
     "data": {
      "text/html": [
       "<div>\n",
       "<style scoped>\n",
       "    .dataframe tbody tr th:only-of-type {\n",
       "        vertical-align: middle;\n",
       "    }\n",
       "\n",
       "    .dataframe tbody tr th {\n",
       "        vertical-align: top;\n",
       "    }\n",
       "\n",
       "    .dataframe thead th {\n",
       "        text-align: right;\n",
       "    }\n",
       "</style>\n",
       "<table border=\"1\" class=\"dataframe\">\n",
       "  <thead>\n",
       "    <tr style=\"text-align: right;\">\n",
       "      <th></th>\n",
       "      <th>Windspeed [m/s]\\Diameter [mm]</th>\n",
       "      <th>1800</th>\n",
       "      <th>2400</th>\n",
       "      <th>3000</th>\n",
       "      <th>3600</th>\n",
       "      <th>4200</th>\n",
       "      <th>AEP/SweptArea_avg</th>\n",
       "    </tr>\n",
       "  </thead>\n",
       "  <tbody>\n",
       "    <tr>\n",
       "      <th>0</th>\n",
       "      <td>3</td>\n",
       "      <td>56.5884</td>\n",
       "      <td>58.3568</td>\n",
       "      <td>57.7202</td>\n",
       "      <td>57.7673</td>\n",
       "      <td>58.032</td>\n",
       "      <td>57.693</td>\n",
       "    </tr>\n",
       "    <tr>\n",
       "      <th>1</th>\n",
       "      <td>4</td>\n",
       "      <td>141.471</td>\n",
       "      <td>143.239</td>\n",
       "      <td>144.3</td>\n",
       "      <td>143.829</td>\n",
       "      <td>143.781</td>\n",
       "      <td>143.324</td>\n",
       "    </tr>\n",
       "    <tr>\n",
       "      <th>2</th>\n",
       "      <td>5</td>\n",
       "      <td>249.932</td>\n",
       "      <td>246.69</td>\n",
       "      <td>247.857</td>\n",
       "      <td>247.574</td>\n",
       "      <td>247.719</td>\n",
       "      <td>247.955</td>\n",
       "    </tr>\n",
       "    <tr>\n",
       "      <th>3</th>\n",
       "      <td>6</td>\n",
       "      <td>348.962</td>\n",
       "      <td>347.488</td>\n",
       "      <td>348.019</td>\n",
       "      <td>348.962</td>\n",
       "      <td>348.192</td>\n",
       "      <td>348.325</td>\n",
       "    </tr>\n",
       "  </tbody>\n",
       "</table>\n",
       "</div>"
      ],
      "text/plain": [
       "   Windspeed [m/s]\\Diameter [mm]    1800    2400    3000    3600    4200  \\\n",
       "0                              3 56.5884 58.3568 57.7202 57.7673  58.032   \n",
       "1                              4 141.471 143.239   144.3 143.829 143.781   \n",
       "2                              5 249.932  246.69 247.857 247.574 247.719   \n",
       "3                              6 348.962 347.488 348.019 348.962 348.192   \n",
       "\n",
       "   AEP/SweptArea_avg  \n",
       "0             57.693  \n",
       "1            143.324  \n",
       "2            247.955  \n",
       "3            348.325  "
      ]
     },
     "execution_count": 3,
     "metadata": {},
     "output_type": "execute_result"
    }
   ],
   "source": [
    "AEPperSA_df = AEP_df.copy()\n",
    "AEPperSA_df = AEPperSA_df.astype(float)\n",
    "\n",
    "diam = [1800,2400,3000,3600,4200] # define rotor diameters [mm]\n",
    "for i in diam : \n",
    "    AEPperSA_df[i] = AEPperSA_df[i]/((i*1e-3)**2*np.pi/4)\n",
    "\n",
    "AEPperSA_df['AEP/SweptArea_avg'] = AEPperSA_df.iloc[:, 1:].mean(axis=1)\n",
    "AEPperSA_df"
   ]
  },
  {
   "cell_type": "markdown",
   "id": "e76ccb3f-2cd7-4865-8c7b-3997254ae9bb",
   "metadata": {},
   "source": [
    "The AEP per swept area in function of wind speed is modelled with a polynomial regression.\n"
   ]
  },
  {
   "cell_type": "code",
   "execution_count": 4,
   "id": "75e4e7d8-5b03-48c1-bd30-16fb5c3a0acf",
   "metadata": {},
   "outputs": [],
   "source": [
    "r = AEPperSA_df['AEP/SweptArea_avg']\n",
    "r.index = AEPperSA_df['Windspeed [m/s]\\Diameter [mm]'].values\n",
    "AEP_coeff= np.polyfit(r.index,r.values, deg = 1)\n",
    "AEP_reg = np.polyval(AEP_coeff,r.index)\n",
    "r2 = r2_score(r.values,AEP_reg)\n"
   ]
  },
  {
   "cell_type": "markdown",
   "id": "018beaa3-5d68-4afd-a7a1-8ee0c130f397",
   "metadata": {},
   "source": [
    "We plot the data and the regression. We see that the AEP/SweptArea is almost independant from the diameter of the windturbine\n"
   ]
  },
  {
   "cell_type": "code",
   "execution_count": 5,
   "id": "1ad3f584-4dad-4815-83f5-51273718df36",
   "metadata": {},
   "outputs": [
    {
     "data": {
      "image/png": "[encoded data removed]",
      "text/plain": [
       "<Figure size 1000x500 with 1 Axes>"
      ]
     },
     "metadata": {},
     "output_type": "display_data"
    }
   ],
   "source": [
    "plt.figure(figsize=(10, 5))\n",
    "\n",
    "for d in diam:\n",
    "    plt.scatter(AEPperSA_df['Windspeed [m/s]\\Diameter [mm]'], AEPperSA_df[d], label=str(d))\n",
    "\n",
    "x_vals = np.linspace(2, max(AEPperSA_df['Windspeed [m/s]\\Diameter [mm]']), 1000)\n",
    "y_vals = np.polyval(AEP_coeff, x_vals)\n",
    "\n",
    "plt.plot(x_vals, y_vals, label=f\"Regression(r²={round(r2,3)})\", color='red', linewidth=1)\n",
    "\n",
    "plt.xlabel('Windspeed [m/s]')\n",
    "plt.ylabel('AEP / Area [kWh/m²]')\n",
    "plt.title('AEP per Swept Area vs Windspeed')\n",
    "plt.legend(title='Diameter [mm]')\n",
    "plt.grid(True)\n",
    "plt.tight_layout()\n",
    "\n",
    "plt.show()"
   ]
  },
  {
   "cell_type": "markdown",
   "id": "92bd207d-64b3-4ae1-8b2b-e0463530b9be",
   "metadata": {},
   "source": [
    "We can now create the function FU which calculate the energy produced during the lifetime of the wind turbine. "
   ]
  },
  {
   "cell_type": "code",
   "execution_count": 6,
   "id": "4c726cd9-b30c-432a-ba38-fd64784239cf",
   "metadata": {},
   "outputs": [],
   "source": [
    "v_ref = 5 # Annual average windspeed value of site given at h_ref\n",
    "h_ref = 12.0\n",
    "z0 = 0.5 # roughness length (urban)\n",
    "lifetime = 20 # Lifetime of the windturbine\n",
    "\n",
    "# This function is in symbolic to be compatible with Brightway 2 and lca_algebraic \n",
    "def FU(d,h) : \n",
    "    v_moy = v_ref*sp.log((h)/z0)/sp.log((h_ref)/z0) # log law\n",
    "    swept_area = (d * 1e-3)**2 * np.pi / 4\n",
    "    return np.polyval(AEP_coeff,v_moy)*swept_area*lifetime\n",
    "\n",
    "#This is the equivalent function in numeric to be compatible with No Load\n",
    "def FU_numeric(d,h) :\n",
    "    v_moy = v_ref*np.log(h/z0)/np.log(h_ref/z0)\n",
    "    swept_area = (d*1e-3)**2*np.pi/4\n",
    "    return np.polyval(AEP_coeff, v_moy)*swept_area*lifetime\n",
    "\n"
   ]
  },
  {
   "cell_type": "markdown",
   "id": "d20a9659-2f8f-45c2-82cb-c21bab1205bc",
   "metadata": {},
   "source": [
    "## Studied impacts"
   ]
  },
  {
   "cell_type": "code",
   "execution_count": 7,
   "id": "e7b51c56-ad65-4e05-ba69-e24fe9c005f4",
   "metadata": {},
   "outputs": [
    {
     "data": {
      "text/plain": [
       "[('EF v3.0', 'acidification', 'accumulated exceedance (AE)'),\n",
       " ('EF v3.0', 'climate change', 'global warming potential (GWP100)'),\n",
       " ('EF v3.0',\n",
       "  'ecotoxicity: freshwater',\n",
       "  'comparative toxic unit for ecosystems (CTUe)'),\n",
       " ('EF v3.0',\n",
       "  'energy resources: non-renewable',\n",
       "  'abiotic depletion potential (ADP): fossil fuels'),\n",
       " ('EF v3.0',\n",
       "  'eutrophication: freshwater',\n",
       "  'fraction of nutrients reaching freshwater end compartment (P)'),\n",
       " ('EF v3.0',\n",
       "  'eutrophication: marine',\n",
       "  'fraction of nutrients reaching marine end compartment (N)'),\n",
       " ('EF v3.0', 'eutrophication: terrestrial', 'accumulated exceedance (AE)'),\n",
       " ('EF v3.0',\n",
       "  'human toxicity: carcinogenic',\n",
       "  'comparative toxic unit for human (CTUh)'),\n",
       " ('EF v3.0',\n",
       "  'human toxicity: non-carcinogenic',\n",
       "  'comparative toxic unit for human (CTUh)'),\n",
       " ('EF v3.0',\n",
       "  'ionising radiation: human health',\n",
       "  'human exposure efficiency relative to u235'),\n",
       " ('EF v3.0', 'land use', 'soil quality index'),\n",
       " ('EF v3.0',\n",
       "  'material resources: metals/minerals',\n",
       "  'abiotic depletion potential (ADP): elements (ultimate reserves)'),\n",
       " ('EF v3.0', 'ozone depletion', 'ozone depletion potential (ODP)'),\n",
       " ('EF v3.0', 'particulate matter formation', 'impact on human health'),\n",
       " ('EF v3.0',\n",
       "  'photochemical oxidant formation: human health',\n",
       "  'tropospheric ozone concentration increase'),\n",
       " ('EF v3.0',\n",
       "  'water use',\n",
       "  'user deprivation potential (deprivation-weighted water consumption)')]"
      ]
     },
     "execution_count": 7,
     "metadata": {},
     "output_type": "execute_result"
    }
   ],
   "source": [
    "# The impacts are triplets of identifiers of ecoinvent database.\n",
    "#We built a 16-impacts list\n",
    "#WARNING be careful that the methods written here corresponds EXACTLY to the methods of EF 3.0 in your activity browser. \n",
    "# to check this,  go to impact categories > EF v3.0 > [check all methods names if you have an error in the code]\n",
    "# for example, in certain version of Biosphere, acidification can be written 'EF v3.0','acidification', 'accumulated exceedance (AE)' instead of 'EF v3.0','acidification', 'accumulated exceedance (ae)'\n",
    "methods_EF=[('EF v3.0','acidification', 'accumulated exceedance (AE)'),\n",
    "            ('EF v3.0','climate change', 'global warming potential (GWP100)'),\n",
    "            ('EF v3.0','ecotoxicity: freshwater', 'comparative toxic unit for ecosystems (CTUe)'),\n",
    "            ('EF v3.0','energy resources: non-renewable', 'abiotic depletion potential (ADP): fossil fuels'),\n",
    "            ('EF v3.0','eutrophication: freshwater', 'fraction of nutrients reaching freshwater end compartment (P)'),\n",
    "            ('EF v3.0','eutrophication: marine', 'fraction of nutrients reaching marine end compartment (N)'),\n",
    "            ('EF v3.0','eutrophication: terrestrial', 'accumulated exceedance (AE)'),\n",
    "            ('EF v3.0','human toxicity: carcinogenic', 'comparative toxic unit for human (CTUh)'),\n",
    "            ('EF v3.0','human toxicity: non-carcinogenic', 'comparative toxic unit for human (CTUh)'),\n",
    "            ('EF v3.0','ionising radiation: human health', 'human exposure efficiency relative to u235'),\n",
    "            ('EF v3.0','land use', 'soil quality index'),\n",
    "            ('EF v3.0','material resources: metals/minerals', 'abiotic depletion potential (ADP): elements (ultimate reserves)'),\n",
    "            ('EF v3.0','ozone depletion', 'ozone depletion potential (ODP)'),\n",
    "            ('EF v3.0','particulate matter formation', 'impact on human health'),\n",
    "            ('EF v3.0','photochemical oxidant formation: human health', 'tropospheric ozone concentration increase'),\n",
    "            ('EF v3.0','water use', 'user deprivation potential (deprivation-weighted water consumption)')]\n",
    "# To show the impact list defined as indicated above\n",
    "methods_EF"
   ]
  },
  {
   "cell_type": "markdown",
   "id": "2358970d-30e6-4a68-a856-d4b4e6462385",
   "metadata": {},
   "source": [
    "## lca_algebraic parameters"
   ]
  },
  {
   "cell_type": "code",
   "execution_count": 8,
   "id": "f63accc8-aefe-4b8e-9242-46384e3c01a2",
   "metadata": {},
   "outputs": [],
   "source": [
    "#The diameter of the windturbine\n",
    "d = agb.newFloatParam(\n",
    "    \"d\",\n",
    "    default = 2400, min = 1800, max=4200,\n",
    "    label_fr = \"Diameter of the windturbine\",\n",
    "    unit = \"mm\")\n",
    "\n",
    "#The height of the mast\n",
    "h = agb.newFloatParam(\n",
    "    \"h\",\n",
    "    default = 18, min = 12, max=30,\n",
    "    label_fr = \"hauteur du mât de l'éolienne\",\n",
    "    unit = \"m\")\n",
    "\n",
    "\n",
    "steel_mix = agb.newEnumParam (\n",
    "    \"steel_mix\",                     # Short name\n",
    "    label=\"Steel production\",    # label\n",
    "    description=\"Type of technologies use to produce steel\", # Long description\n",
    "    values =[                     # Statistic weight of each option that fits with the market\n",
    "        \"Converter\",\n",
    "        \"Converter_elec\"],\n",
    "    default = 'Converter'\n",
    "    )  \n"
   ]
  },
  {
   "cell_type": "markdown",
   "id": "b921079d-45bd-43a5-b0f2-b88cbc164c07",
   "metadata": {},
   "source": [
    "# Parametrization of the inventory"
   ]
  },
  {
   "cell_type": "markdown",
   "id": "1b9ebbd8",
   "metadata": {},
   "source": [
    "## Sizing of the mast "
   ]
  },
  {
   "cell_type": "code",
   "execution_count": 9,
   "id": "da5711f9",
   "metadata": {},
   "outputs": [],
   "source": [
    "rho_steel = 7850 # steel density\n",
    "h_min=12;\n",
    "h_max=24;\n",
    "height = np.array([h_min, 18, h_max])\n",
    "\n",
    "d_min=1800;\n",
    "d_max=4200;\n",
    "# Generate height values\n",
    "h_values = np.linspace(12, 24, 20) #20 values of tower height from 12 to 24 m"
   ]
  },
  {
   "cell_type": "markdown",
   "id": "47b8482e-5767-4ff9-9797-63398f5af313",
   "metadata": {},
   "source": [
    "### Fundation"
   ]
  },
  {
   "cell_type": "markdown",
   "id": "5ba36a68-714c-4cff-96c5-9dd08a8d813f",
   "metadata": {},
   "source": [
    "#### Concrete"
   ]
  },
  {
   "cell_type": "markdown",
   "id": "4fae7390-c73e-427b-bde1-bd3e736f74aa",
   "metadata": {},
   "source": [
    "The volume of concrete depends on the height of the mast and the diameter of the wind turbine. Data from Table X pX"
   ]
  },
  {
   "cell_type": "code",
   "execution_count": 10,
   "id": "5be62277-3bf3-4143-97e3-b3501ebf271c",
   "metadata": {},
   "outputs": [
    {
     "data": {
      "image/png": "[encoded data removed]",
      "text/plain": [
       "<Figure size 1000x600 with 1 Axes>"
      ]
     },
     "metadata": {},
     "output_type": "display_data"
    }
   ],
   "source": [
    "conc_df = pd.DataFrame({'Diameter':[1800,2400,2400,3000,3000,3000,3600,3600,3600,4200,4200,4200],\n",
    "                        'Height':[12,12,18,12,18,24,12,18,24,12,18,24],\n",
    "                        'Volume':[0.3*5,0.4*5,0.4*5,0.5*5,0.5*5,0.7*5,0.5*5,0.5*5,0.7*5,0.7*5,0.7*5,1*5]})\n",
    "#5 is the number of concrete blocs.\n",
    "a0, a1, a2, a3, a4, a5 = sp.symbols('a0 a1 a2 a3 a4 a5') # define symbolic coefs\n",
    "\n",
    "f = a0 + a1*h + a2*d + a3*h**2 + a4*h*d + a5*d**2 # function of regression for concrete volume f(h,d)\n",
    "\n",
    "X = []\n",
    "y = []\n",
    "\n",
    "for _, row in conc_df.iterrows():\n",
    "    hh = row['Height']\n",
    "    dd = row['Diameter']\n",
    "    vol = row['Volume']\n",
    "    X.append([1, hh, dd, hh**2, hh*dd, dd**2])\n",
    "    y.append(vol)\n",
    "\n",
    "X = np.array(X)\n",
    "y = np.array(y)\n",
    "\n",
    "coeffs, *_ = np.linalg.lstsq(X, y, rcond=None) # fitting parameters with least square\n",
    "\n",
    "# create symbolic function with parameters from least squares regression\n",
    "conc_fitted_model = f.subs({\n",
    "    a0: coeffs[0],\n",
    "    a1: coeffs[1],\n",
    "    a2: coeffs[2],\n",
    "    a3: coeffs[3],\n",
    "    a4: coeffs[4],\n",
    "    a5: coeffs[5],\n",
    "})\n",
    "\n",
    "# Convert symbolic function to numerical function\n",
    "f_lambdified = sp.lambdify((h, d), conc_fitted_model, modules='numpy')\n",
    "\n",
    "# Create meshgrid for plotting\n",
    "h_vals = np.linspace(h_min, h_max, 100)\n",
    "d_vals = np.linspace(d_min, d_max, 100)\n",
    "H, D = np.meshgrid(h_vals, d_vals)\n",
    "Z = f_lambdified(H, D)\n",
    "\n",
    "# Plotting\n",
    "fig = plt.figure(figsize=(10, 6))\n",
    "ax = fig.add_subplot(111, projection='3d')\n",
    "ax.plot_surface(H, D, Z, cmap='viridis', edgecolor='none')\n",
    "\n",
    "ax.set_xlabel('Height (m)')\n",
    "ax.set_ylabel('Diameter (mm)')\n",
    "ax.set_zlabel('Concrete Volume (m³)')\n",
    "ax.set_title('Fitted Concrete Volume Model')\n",
    "\n",
    "plt.tight_layout()\n",
    "plt.savefig(\"fitted_concrete_volume_model.png\", dpi=300)\n",
    "plt.show()"
   ]
  },
  {
   "cell_type": "code",
   "execution_count": 11,
   "id": "66bb4ffe",
   "metadata": {},
   "outputs": [],
   "source": [
    "### HERE ADD a comparison between model and data\n",
    "\n"
   ]
  },
  {
   "cell_type": "markdown",
   "id": "d25f0052-19c6-42be-9613-fcd136799407",
   "metadata": {},
   "source": [
    "#### Rebar"
   ]
  },
  {
   "cell_type": "code",
   "execution_count": 12,
   "id": "e8391dbc-7e9b-4392-a8f1-6836783a837f",
   "metadata": {},
   "outputs": [],
   "source": [
    "rebar_df = pd.DataFrame({'Height':[12,18,24],\n",
    "                        'Length':[25,35,50]})\n",
    "\n",
    "rebar_coeff = np.polyfit(rebar_df['Height'],rebar_df['Length'], deg = 2)"
   ]
  },
  {
   "cell_type": "code",
   "execution_count": 13,
   "id": "5e1bdb3c",
   "metadata": {},
   "outputs": [],
   "source": [
    "### HERE ADD a comparison between model and data"
   ]
  },
  {
   "cell_type": "markdown",
   "id": "a989474d",
   "metadata": {},
   "source": [
    "###  Steel tower"
   ]
  },
  {
   "cell_type": "code",
   "execution_count": 14,
   "id": "39babc23",
   "metadata": {},
   "outputs": [],
   "source": [
    "#Mast\n",
    "e_mast = 3.2e-3 # mast steel tube thickness\n",
    "D = np.array([88.9,114.3,114.3])*1e-3 # mast steel tube diameters\n",
    "D_fit=np.polyfit(height,D,1)\n",
    "\n",
    "#Yaw\n",
    "e_yaw1 = 0.0029\n",
    "D_yaw1 = 0.0603\n",
    "\n",
    "e_yaw2 = 0.0032\n",
    "D_yaw2 = 0.0889\n",
    "\n",
    "e_yaw=np.array([e_yaw1, e_yaw2, e_yaw2])\n",
    "D_yaw=np.array([D_yaw1, D_yaw2, D_yaw2])\n",
    "\n",
    "D_yaw_fit=np.polyfit(height,D_yaw,1)\n",
    "e_yaw_fit=np.polyfit(height,e_yaw,1)\n",
    "\n",
    "#Pivot\n",
    "e_pivot = 0.005\n",
    "D_pivot = np.array([60.3,76,76])*1e-3\n",
    "L_pivot = np.array([395,480,480])*1e-3\n",
    "\n",
    "D_pivot_fit = np.polyfit(height,D_pivot,1)\n",
    "L_pivot_fit = np.polyfit(height,L_pivot,1)\n",
    "\n",
    "#Regression\n",
    "def tower_steel_tube_mass(h):\n",
    "    \n",
    "    m_yaw=np.pi*np.polyval(e_yaw_fit,h)*rho_steel*h/2*(np.polyval(D_yaw_fit,h)-np.polyval(e_yaw_fit,h))\n",
    "    m_mast=np.pi*e_mast*rho_steel*h*(np.polyval(D_fit,h)-e_mast)\n",
    "    m_pivot = np.pi*e_pivot*rho_steel*np.polyval(L_pivot_fit,h)*(np.polyval(D_pivot_fit,h)-e_pivot)\n",
    "    \n",
    "    return m_yaw+m_mast+m_pivot\n",
    "#Real values\n",
    "def tower_steel_tube_mass_real() : \n",
    "    h = np.array([12,18,24])\n",
    "    m_yaw=np.pi*e_yaw*rho_steel*h/2*(D_yaw-e_yaw)\n",
    "    m_mast=np.pi*e_mast*rho_steel*h*(D-e_mast)\n",
    "    m_pivot = np.pi*e_pivot*rho_steel*L_pivot*(D_pivot-e_pivot)\n",
    "\n",
    "    return m_mast+m_yaw+m_pivot"
   ]
  },
  {
   "cell_type": "code",
   "execution_count": 15,
   "id": "7884f565-f8af-4286-97a6-9a78ab9eac05",
   "metadata": {},
   "outputs": [
    {
     "data": {
      "image/png": "[encoded data removed]",
      "text/plain": [
       "<Figure size 800x500 with 1 Axes>"
      ]
     },
     "metadata": {},
     "output_type": "display_data"
    }
   ],
   "source": [
    "# Plot the function\n",
    "fig, ax = plt.subplots(figsize=(8,5))\n",
    "ax.plot(h_values, tower_steel_tube_mass(h_values), label=\"Steel tower Mass\")\n",
    "ax.scatter(height,tower_steel_tube_mass_real(),label='real',color = 'red')\n",
    "ax.set_xlabel('Tower height (m)')\n",
    "ax.set_ylabel('Tower mass (kg)')\n",
    "ax.grid(True)\n",
    "ax.legend()\n",
    "plt.show()"
   ]
  },
  {
   "cell_type": "markdown",
   "id": "073a2f0d",
   "metadata": {},
   "source": [
    "### Guy wire"
   ]
  },
  {
   "cell_type": "markdown",
   "id": "b5121292-ca77-445e-be0e-e4802c73e00b",
   "metadata": {},
   "source": [
    "#### Mass"
   ]
  },
  {
   "cell_type": "markdown",
   "id": "7a748e06-07c6-4e95-aa36-08616b928bc2",
   "metadata": {},
   "source": [
    "For the length of the top guy wires $L_c$, we have : \n",
    "\n",
    "$L_c = \\frac{4h}{\\sin(\\alpha)} = \\frac{8h}{\\sqrt3}$\n",
    "\n",
    "with : \n",
    "\n",
    "$\\alpha = 60°$ the angle formed between the cable and the ground\n",
    "\n",
    "$h$ the mast height"
   ]
  },
  {
   "cell_type": "markdown",
   "id": "3cc0f7d7-c115-4431-b395-196fbe990156",
   "metadata": {},
   "source": [
    "Smaller cable are used to strengthen the mast tube with a diameter considered constant of 6 mm. They are connected to the same anchorage as the top cable but they are connected to the mast at 6 m, 12 m and 18 m with a length of $\\lambda_1$, $\\lambda_2$ and $\\lambda_3$."
   ]
  },
  {
   "cell_type": "markdown",
   "id": "eba84a00-3233-463d-8453-324512910017",
   "metadata": {},
   "source": [
    "$\\lambda_1 = 4\\sqrt{\\left(\\frac{L}{2}\\right)^2+6^2}$"
   ]
  },
  {
   "cell_type": "markdown",
   "id": "47c565ef-8be4-483e-b712-6e6a9f6e7b15",
   "metadata": {},
   "source": [
    "$\\lambda_2 = 4\\sqrt{\\left(\\frac{L}{2}\\right)^2+12^2}$\n"
   ]
  },
  {
   "cell_type": "markdown",
   "id": "49c3d1a4-c4ee-4568-b481-c21fa0e101fb",
   "metadata": {},
   "source": [
    "$\\lambda_3 = 4\\sqrt{\\left(\\frac{L}{2}\\right)^2+18^2}$\n"
   ]
  },
  {
   "cell_type": "code",
   "execution_count": 16,
   "id": "9de19078",
   "metadata": {},
   "outputs": [
    {
     "data": {
      "image/png": "[encoded data removed]",
      "text/plain": [
       "<Figure size 800x500 with 1 Axes>"
      ]
     },
     "metadata": {},
     "output_type": "display_data"
    }
   ],
   "source": [
    "#fill factor of the wires, which translates that there is gaps in the section\n",
    "k_wire = 0.51\n",
    "\n",
    "#This coefficient between 0 an 1 defines at which point between 2 height from the handbook, for example 12m and 18m,\n",
    "#do we add a third layer of cable\n",
    "coef_add_cable = 0.5\n",
    "\n",
    "#Function which gives the Length of wires in relation to the height of the mast, with a step at each new layer of guy wires.\n",
    "def Length_wire_steel_step(h):\n",
    "    L6 = 4 * sp.sqrt((12 / 2) ** 2 + (6) ** 2)\n",
    "    LT = 8 * h / sp.sqrt(3) #Length of wires fixed at the top\n",
    "    L12 = sp.Piecewise((4 * sp.sqrt((h / 2) ** 2 + 12 ** 2), h > 12+6*coef_add_cable), (0, True))#Length of guy wires fixed at 12m\n",
    "    L18 = sp.Piecewise((4 * sp.sqrt((h / 2) ** 2 + 18 ** 2), h > 18+6*coef_add_cable), (0, True))#Length of guy wires fixed at 18m\n",
    "    L24 = sp.Piecewise((4 * sp.sqrt((h / 2) ** 2 + 24 ** 2), h > 24+6*coef_add_cable), (0, True))#Length of guy wires fixed at 24m\n",
    "    return L6 + LT + L12 + L18 + L24\n",
    "\n",
    "def mass_wire_steel_step(h):\n",
    "    S_6 = k_wire * sp.pi * (0.006 / 2) ** 2\n",
    "    return rho_steel * S_6 * Length_wire_steel_step(h)\n",
    "\n",
    "# The regression has been make on a separate sheet\n",
    "def Length_wire_steel_regression(h):\n",
    "    return 38.6 + -2.56*h + 0.564*h**2\n",
    "\n",
    "def mass_wire_steel(h):\n",
    "    S_6 = k_wire * sp.pi * (0.006 / 2) ** 2\n",
    "    return rho_steel * S_6 * Length_wire_steel_regression(h)\n",
    "\n",
    "\n",
    "# Lambdify the function\n",
    "m_wire_step_expr = mass_wire_steel_step(h)\n",
    "m_wire_step_numeric = sp.lambdify(h, m_wire_step_expr, 'numpy')\n",
    "\n",
    "# Compute values\n",
    "m_wire_regression_values = mass_wire_steel(h_values)\n",
    "m_wire_step_values = m_wire_step_numeric(h_values)\n",
    "\n",
    "# Plot both\n",
    "plt.figure(figsize=(8,5))\n",
    "plt.plot(h_values, m_wire_regression_values, label=\"Interpolated Mass\", color='blue')\n",
    "plt.plot(h_values, m_wire_step_values, label=\"Step Mass \", color='orange', linestyle='--')\n",
    "plt.xlabel('Tower Height (m)')\n",
    "plt.ylabel('Wire Mass (kg)')\n",
    "plt.title('Steel Wire Mass: Interpolated vs Step Function')\n",
    "plt.grid(True)\n",
    "plt.legend()\n",
    "plt.tight_layout()\n",
    "plt.show()\n"
   ]
  },
  {
   "cell_type": "markdown",
   "id": "aea3064a",
   "metadata": {},
   "source": [
    "#### Zinc coating"
   ]
  },
  {
   "cell_type": "code",
   "execution_count": 17,
   "id": "a20cbe08",
   "metadata": {},
   "outputs": [],
   "source": [
    "D_wire = 0.006\n",
    "A = D_wire**2/4*np.pi #Coated area per meter of cable"
   ]
  },
  {
   "cell_type": "code",
   "execution_count": 18,
   "id": "cd29b603-52b6-48c8-b8ed-e14e8e85ff3e",
   "metadata": {},
   "outputs": [
    {
     "data": {
      "image/png": "[encoded data removed]",
      "text/plain": [
       "<Figure size 800x500 with 1 Axes>"
      ]
     },
     "metadata": {},
     "output_type": "display_data"
    }
   ],
   "source": [
    "# Lambdify function for the plot\n",
    "\n",
    "l_wire_step_expr = Length_wire_steel_step(h)\n",
    "l_wire_step_numeric = sp.lambdify(h, l_wire_step_expr, 'numpy')\n",
    "\n",
    "# Compute values\n",
    "l_values = Length_wire_steel_regression(h_values)\n",
    "l_step_values = l_wire_step_numeric(h_values)\n",
    "\n",
    "# Plot both\n",
    "plt.figure(figsize=(8,5))\n",
    "plt.plot(h_values, A*l_values, label=\"Interpolated area\", color='blue')\n",
    "plt.plot(h_values, A*l_step_values, label=\"Step area \", color='orange', linestyle='--')\n",
    "plt.xlabel('Tower Height (m)')\n",
    "plt.ylabel('Area coated (m²)')\n",
    "plt.title('Zinc coating: differents interpolations')\n",
    "plt.grid(True)\n",
    "plt.legend()\n",
    "plt.tight_layout()\n",
    "plt.show()"
   ]
  },
  {
   "cell_type": "markdown",
   "id": "2b1f2c1c-5ab0-48b7-81bc-e9e9e1e4f72c",
   "metadata": {},
   "source": [
    "## Sizing of the wind generator\n",
    "\n",
    "The regressions are based on an output from the software OpenAFPM, specifically a .FCStd file create with OpenAFPM CAD. All the volumes are then extracted in a .csv file with the code export-volumes.py.\n",
    "\n",
    "For some elements, such as the wood for blades, the regression is directly made with the data of the handbook."
   ]
  },
  {
   "cell_type": "code",
   "execution_count": 19,
   "id": "64303509-74cf-4761-b939-f904b9619b6c",
   "metadata": {},
   "outputs": [],
   "source": [
    "#Volumic mass in kg/cm³\n",
    "\n",
    "sm_glassfibre = 0.07 #surfacic mass of the glass fibre in kg/m²\n",
    "vm_copper = 8960 * 1e-6\n",
    "vm_mgn = 7500 * 1e-6\n",
    "vm_plywood = 500 * 1e-6\n",
    "vm_resin = 1360 * 1e-6\n",
    "vm_softwood = 500*1e-6 #Typical volumic mass for douglas or cedar \n",
    "vm_steel = 7850 * 1e-6"
   ]
  },
  {
   "cell_type": "code",
   "execution_count": 20,
   "id": "a19da167-f5d0-483c-82c2-13311c29cf65",
   "metadata": {},
   "outputs": [
    {
     "data": {
      "text/html": [
       "<div>\n",
       "<style scoped>\n",
       "    .dataframe tbody tr th:only-of-type {\n",
       "        vertical-align: middle;\n",
       "    }\n",
       "\n",
       "    .dataframe tbody tr th {\n",
       "        vertical-align: top;\n",
       "    }\n",
       "\n",
       "    .dataframe thead th {\n",
       "        text-align: right;\n",
       "    }\n",
       "</style>\n",
       "<table border=\"1\" class=\"dataframe\">\n",
       "  <thead>\n",
       "    <tr style=\"text-align: right;\">\n",
       "      <th></th>\n",
       "      <th>1800</th>\n",
       "      <th>2400</th>\n",
       "      <th>3000</th>\n",
       "      <th>3600</th>\n",
       "      <th>4200</th>\n",
       "    </tr>\n",
       "    <tr>\n",
       "      <th>Component</th>\n",
       "      <th></th>\n",
       "      <th></th>\n",
       "      <th></th>\n",
       "      <th></th>\n",
       "      <th></th>\n",
       "    </tr>\n",
       "  </thead>\n",
       "  <tbody>\n",
       "    <tr>\n",
       "      <th>WindTurbine</th>\n",
       "      <td>8,237.2</td>\n",
       "      <td>14,628.6</td>\n",
       "      <td>21,097.7</td>\n",
       "      <td>30,430.5</td>\n",
       "      <td>38,745.7</td>\n",
       "    </tr>\n",
       "    <tr>\n",
       "      <th>WindTurbine/Alternator</th>\n",
       "      <td>4,573.68</td>\n",
       "      <td>7,096.71</td>\n",
       "      <td>10,160.9</td>\n",
       "      <td>13,578.2</td>\n",
       "      <td>14,186.1</td>\n",
       "    </tr>\n",
       "    <tr>\n",
       "      <th>WindTurbine/Alternator/Blade_Assembly_BackDisk</th>\n",
       "      <td>274.94</td>\n",
       "      <td>582.91</td>\n",
       "      <td>1,154.83</td>\n",
       "      <td>1,999.62</td>\n",
       "      <td>2,737.18</td>\n",
       "    </tr>\n",
       "    <tr>\n",
       "      <th>WindTurbine/Alternator/Blade_Assembly_FrontTriangle</th>\n",
       "      <td>290.54</td>\n",
       "      <td>666.07</td>\n",
       "      <td>1,294.4</td>\n",
       "      <td>2,228.19</td>\n",
       "      <td>349.04</td>\n",
       "    </tr>\n",
       "    <tr>\n",
       "      <th>WindTurbine/Alternator/Blade_Assembly_FrontTriangle/InnerHoleScrewHoleMultiTransform</th>\n",
       "      <td>290.54</td>\n",
       "      <td>666.07</td>\n",
       "      <td>1,294.4</td>\n",
       "      <td>2,228.19</td>\n",
       "      <td>349.04</td>\n",
       "    </tr>\n",
       "    <tr>\n",
       "      <th>...</th>\n",
       "      <td>...</td>\n",
       "      <td>...</td>\n",
       "      <td>...</td>\n",
       "      <td>...</td>\n",
       "      <td>...</td>\n",
       "    </tr>\n",
       "    <tr>\n",
       "      <th>WindTurbine/YawBearing/Plate_Top</th>\n",
       "      <td>45.66</td>\n",
       "      <td>61.59</td>\n",
       "      <td>72.48</td>\n",
       "      <td>0</td>\n",
       "      <td>0</td>\n",
       "    </tr>\n",
       "    <tr>\n",
       "      <th>WindTurbine/YawBearing/SafetyCatchPart</th>\n",
       "      <td>5.85</td>\n",
       "      <td>8.37</td>\n",
       "      <td>10.99</td>\n",
       "      <td>14.15</td>\n",
       "      <td>16.42</td>\n",
       "    </tr>\n",
       "    <tr>\n",
       "      <th>WindTurbine/YawBearing/SafetyCatchPart/SafetyCatch</th>\n",
       "      <td>5.85</td>\n",
       "      <td>8.37</td>\n",
       "      <td>10.99</td>\n",
       "      <td>14.15</td>\n",
       "      <td>16.42</td>\n",
       "    </tr>\n",
       "    <tr>\n",
       "      <th>WindTurbine/YawBearing/Side</th>\n",
       "      <td>0</td>\n",
       "      <td>0</td>\n",
       "      <td>0</td>\n",
       "      <td>225.17</td>\n",
       "      <td>321</td>\n",
       "    </tr>\n",
       "    <tr>\n",
       "      <th>WindTurbine/YawBearing/Top</th>\n",
       "      <td>0</td>\n",
       "      <td>0</td>\n",
       "      <td>0</td>\n",
       "      <td>244.83</td>\n",
       "      <td>306.47</td>\n",
       "    </tr>\n",
       "  </tbody>\n",
       "</table>\n",
       "<p>73 rows × 5 columns</p>\n",
       "</div>"
      ],
      "text/plain": [
       "                                                       1800     2400     3000  \\\n",
       "Component                                                                       \n",
       "WindTurbine                                         8,237.2 14,628.6 21,097.7   \n",
       "WindTurbine/Alternator                             4,573.68 7,096.71 10,160.9   \n",
       "WindTurbine/Alternator/Blade_Assembly_BackDisk       274.94   582.91 1,154.83   \n",
       "WindTurbine/Alternator/Blade_Assembly_FrontTria...   290.54   666.07  1,294.4   \n",
       "WindTurbine/Alternator/Blade_Assembly_FrontTria...   290.54   666.07  1,294.4   \n",
       "...                                                     ...      ...      ...   \n",
       "WindTurbine/YawBearing/Plate_Top                      45.66    61.59    72.48   \n",
       "WindTurbine/YawBearing/SafetyCatchPart                 5.85     8.37    10.99   \n",
       "WindTurbine/YawBearing/SafetyCatchPart/SafetyCatch     5.85     8.37    10.99   \n",
       "WindTurbine/YawBearing/Side                               0        0        0   \n",
       "WindTurbine/YawBearing/Top                                0        0        0   \n",
       "\n",
       "                                                       3600     4200  \n",
       "Component                                                             \n",
       "WindTurbine                                        30,430.5 38,745.7  \n",
       "WindTurbine/Alternator                             13,578.2 14,186.1  \n",
       "WindTurbine/Alternator/Blade_Assembly_BackDisk     1,999.62 2,737.18  \n",
       "WindTurbine/Alternator/Blade_Assembly_FrontTria... 2,228.19   349.04  \n",
       "WindTurbine/Alternator/Blade_Assembly_FrontTria... 2,228.19   349.04  \n",
       "...                                                     ...      ...  \n",
       "WindTurbine/YawBearing/Plate_Top                          0        0  \n",
       "WindTurbine/YawBearing/SafetyCatchPart                14.15    16.42  \n",
       "WindTurbine/YawBearing/SafetyCatchPart/SafetyCatch    14.15    16.42  \n",
       "WindTurbine/YawBearing/Side                          225.17      321  \n",
       "WindTurbine/YawBearing/Top                           244.83   306.47  \n",
       "\n",
       "[73 rows x 5 columns]"
      ]
     },
     "execution_count": 20,
     "metadata": {},
     "output_type": "execute_result"
    }
   ],
   "source": [
    "#Excrating volumes from .csv files\n",
    "vol_pd = pd.read_csv(f\"SizingWT/Volume_csv/volumes_1800.csv\") #Change this if you need\n",
    "for a in [2400,3000,3600,4200] : \n",
    "    vol1_pd = pd.read_csv(f\"SizingWT/Volume_csv/volumes_{a}.csv\")\n",
    "    vol_pd = pd.merge(vol_pd,vol1_pd, on='Diameter',how='outer')\n",
    "vol_pd = vol_pd.fillna(0)\n",
    "vol_pd = vol_pd.iloc[1:].copy()\n",
    "vol_pd.columns = ['Component', 1800, 2400, 3000, 3600, 4200]\n",
    "vol_pd = vol_pd.set_index('Component')\n",
    "vol_pd = vol_pd.astype(float)\n",
    "save_data = vol_pd.to_csv('vol_pd.csv', index = True)\n",
    "vol_pd"
   ]
  },
  {
   "cell_type": "code",
   "execution_count": 21,
   "id": "3a35bed0-a548-4225-a88f-98e78c9d2bac",
   "metadata": {},
   "outputs": [],
   "source": [
    "#element_df = pd.DataFrame(columns = ['Element','1800','2400','3000','3600','4200'])\n",
    "element_df =  pd.DataFrame()"
   ]
  },
  {
   "cell_type": "markdown",
   "id": "f716b017-ee62-4869-8c1f-38447e72d8d7",
   "metadata": {},
   "source": [
    "### Computation of masses"
   ]
  },
  {
   "cell_type": "markdown",
   "id": "e68bc7b7-4096-4485-845a-39db9fa7cedd",
   "metadata": {},
   "source": [
    "#### Propeller"
   ]
  },
  {
   "cell_type": "code",
   "execution_count": 22,
   "id": "b55c1593-9098-43ec-969a-f15944370bd8",
   "metadata": {},
   "outputs": [],
   "source": [
    "m_blades = pd.Series([15.0*5.0*95.0, 15.0*5.0*125.0, 20.0*8.0*155.0, 25.0*10.0*185.0, 25.0*10.0*215.0,'kg'], index = [1800, 2400, 3000, 3600, 4200,'unit'])#From the Tripalium handbook 2023, p14 Table 1\n",
    "m_blades.name = \"Blades\"\n",
    "m_blades[:5] = m_blades[:5]*vm_softwood*3\n",
    "element_df = element_df._append(m_blades)\n",
    "\n",
    "vol_bladesAttachements = 1e-6*(vol_pd.loc['WindTurbine/Alternator/Blade_Assembly_BackDisk']+vol_pd.loc['WindTurbine/Alternator/Blade_Assembly_FrontTriangle'])\n",
    "vol_bladesAttachements.name = \"BladesAttachement\"\n",
    "vol_bladesAttachements[3600] = 2900.0*1e-6\n",
    "vol_bladesAttachements['unit']='m³'\n",
    "element_df = element_df._append(vol_bladesAttachements)"
   ]
  },
  {
   "cell_type": "markdown",
   "id": "134f4842-6516-43d3-a9bd-6927ea232914",
   "metadata": {},
   "source": [
    "#### Stator"
   ]
  },
  {
   "cell_type": "code",
   "execution_count": 23,
   "id": "0d75343c-6b0a-4eae-a300-98370a1dc775",
   "metadata": {},
   "outputs": [],
   "source": [
    "k_copper = 0.55 #Fill factor\n",
    "v_coils = vol_pd.loc['WindTurbine/Alternator/Stator/Coils']*k_copper\n",
    "m_coils = v_coils*vm_copper\n",
    "m_coils.name = \"CopperCoils\"\n",
    "m_coils['unit']='kg'\n",
    "element_df = element_df._append(m_coils)\n",
    "\n",
    "\n",
    "m_resinS =  vol_pd.loc['WindTurbine/Alternator/Stator/ResinCast']*vm_resin\n",
    "m_resinS.name = 'ResinStator'\n",
    "m_resinS['unit'] = 'kg'\n",
    "element_df = element_df._append(m_resinS)"
   ]
  },
  {
   "cell_type": "markdown",
   "id": "001430e9-7c37-47ff-8e59-47237effad0c",
   "metadata": {},
   "source": [
    "#### Rotor"
   ]
  },
  {
   "cell_type": "code",
   "execution_count": 24,
   "id": "094b0c26-f6da-40b6-8548-4c1f3b29c9ef",
   "metadata": {},
   "outputs": [],
   "source": [
    "v_metaldisks = vol_pd.loc['WindTurbine/Alternator/Rotor_Back/Rotor_Disk_Back']*2\n",
    "m_metaldisks = v_metaldisks*vm_steel             \n",
    "m_metaldisks.name = 'MetalDisks'\n",
    "m_metaldisks['unit']='kg'\n",
    "element_df = element_df._append(m_metaldisks)\n",
    "\n",
    "e_disk = [0.6,0.8,0.8,1.0,1.0] #Find the thickness of the disk pX\n",
    "s_metaldisk = v_metaldisks[:5]/e_disk*4*1e-4\n",
    "s_metaldisk.name = 'SurfaceDisk'\n",
    "s_metaldisk['unit'] = 'm²'\n",
    "element_df = element_df._append(s_metaldisk)\n",
    "\n",
    "m_mgn = vol_pd.loc['WindTurbine/Alternator/Rotor_Back/MagnetResin_Assembly/Rotor_Magnets']*vm_mgn\n",
    "m_mgn.name = 'Magnet'\n",
    "m_mgn2 = m_mgn.copy()\n",
    "m_mgn2[1:] = m_mgn[1:]*2\n",
    "m_mgn2['unit']='kg'\n",
    "element_df = element_df._append(m_mgn2)\n",
    "\n",
    "m_resinR = vol_pd.loc['WindTurbine/Alternator/Rotor_Back/MagnetResin_Assembly/Rotor_ResinCast']*vm_resin\n",
    "m_resinR.name = 'ResinRotor'\n",
    "m_resinR2 = m_resinR.copy()\n",
    "m_resinR2[1:] = m_resinR[1:]*2\n",
    "m_resinR2['unit']='kg'\n",
    "element_df = element_df._append(m_resinR2)"
   ]
  },
  {
   "cell_type": "markdown",
   "id": "063db89c-2089-46fc-8444-bc16b8cb9ba0",
   "metadata": {},
   "source": [
    "#### Hub"
   ]
  },
  {
   "cell_type": "code",
   "execution_count": 25,
   "id": "1ac7da18-9e34-411c-859c-92714824edda",
   "metadata": {},
   "outputs": [],
   "source": [
    "v_hub = vol_pd.loc['WindTurbine/Alternator/Hub']*1e-6\n",
    "v_hub.name = 'Hub'\n",
    "v_hub['unit']='m³'\n",
    "element_df = element_df._append(v_hub)"
   ]
  },
  {
   "cell_type": "markdown",
   "id": "a4732db4-89b1-41bd-9111-b99a7e14fbaf",
   "metadata": {},
   "source": [
    "#### Tail"
   ]
  },
  {
   "cell_type": "code",
   "execution_count": 26,
   "id": "ea731600-8af4-4039-a3a9-9aa2532a4c25",
   "metadata": {},
   "outputs": [],
   "source": [
    "v_vane = vol_pd.loc['WindTurbine/Tail_Assembly/Tail/Assembly_BoomVane/Vane']*1e-6\n",
    "v_vane.name = 'Vane'\n",
    "v_vane['unit']='m³'\n",
    "element_df = element_df._append(v_vane)\n",
    "\n",
    "m_boompipe = vol_pd.loc['WindTurbine/Tail_Assembly/Tail/Assembly_BoomVane/Boom_Pipe']*vm_steel\n",
    "m_boompipe.name = 'BoomPipe'\n",
    "m_boompipe['unit']='kg'\n",
    "element_df = element_df._append(m_boompipe)\n",
    "\n",
    "m_hingeouter = vol_pd.loc['WindTurbine/Tail_Assembly/Tail/Hinge_Outer']*vm_steel\n",
    "m_hingeouter.name = 'HingeOuter'\n",
    "m_hingeouter['unit']='kg'\n",
    "element_df = element_df._append(m_hingeouter)\n",
    "\n",
    "m_steel4tail = vm_steel*(vol_pd.loc['WindTurbine/Tail_Assembly/Tail/Assembly_BoomVane/Vane_Bracket_Bottom']*2+vol_pd.loc['WindTurbine/Tail_Assembly/Tail/Assembly_BoomVane/Boom_Support']\n",
    "+vol_pd.loc['WindTurbine/Tail_Assembly/Tail/Assembly_BoomVane/Tail_Stop_HighEnd']+vol_pd.loc['WindTurbine/Tail_Assembly/Tail/Hinge_Outer/Tail_Stop_LowEnd'])\n",
    "m_steel4tail.name = 'Bracket+Support+TailStop'\n",
    "m_steel4tail['unit']='kg'\n",
    "element_df = element_df._append(m_steel4tail)"
   ]
  },
  {
   "cell_type": "markdown",
   "id": "f96f9190-a34b-45c9-b68c-92604c48f2f5",
   "metadata": {},
   "source": [
    "#### Nacelle"
   ]
  },
  {
   "cell_type": "code",
   "execution_count": 27,
   "id": "ef759348-e68c-4fbb-80a3-60c5f5b88cac",
   "metadata": {},
   "outputs": [],
   "source": [
    "m_frame = vol_pd.loc['WindTurbine/Alternator/Frame']*vm_steel\n",
    "m_frame.name = 'Frame'\n",
    "m_frame['unit']='kg'\n",
    "element_df = element_df._append(m_frame)\n",
    "\n",
    "m_yawpipe = vol_pd.loc['WindTurbine/YawBearing/Pipe']*vm_steel\n",
    "m_yawpipe.name = 'YawPipe'\n",
    "m_yawpipe['unit']='kg'\n",
    "element_df = element_df._append(m_yawpipe)\n",
    "\n",
    "m_yamplate = vm_steel*(vol_pd.loc['WindTurbine/YawBearing/Plate_Top']+vol_pd.loc['WindTurbine/YawBearing/SafetyCatchPart']+vol_pd.loc['WindTurbine/YawBearing/Side']+vol_pd.loc['WindTurbine/YawBearing/Top'])\n",
    "m_yamplate.name = 'YawPlates'\n",
    "m_yamplate['unit']='kg'\n",
    "element_df = element_df._append(m_yamplate)"
   ]
  },
  {
   "cell_type": "markdown",
   "id": "319f1a38-a313-4b87-82ca-19dba5da1770",
   "metadata": {},
   "source": [
    "#### Hardware"
   ]
  },
  {
   "cell_type": "code",
   "execution_count": 28,
   "id": "380a6112-6440-4947-823a-77b02242763f",
   "metadata": {},
   "outputs": [],
   "source": [
    "m_hardware_inox = pd.Series([2.480361126,2.592621126,2.661621126,4.594967228,4.798127228,'kg'],index = [1800, 2400, 3000, 3600, 4200,'unit'])\n",
    "m_hardware_inox.name = 'Hardware inox'\n",
    "element_df = element_df._append(m_hardware_inox)\n",
    "\n",
    "m_hardware_zinc = pd.Series([2.666036318,2.666036318,2.666036318,2.717936318,2.717936318,'kg'],index = [1800, 2400, 3000, 3600, 4200,'unit'])\n",
    "m_hardware_inox.name = 'Hardware inox'\n",
    "m_hardware_zinc.name = 'Hardware zinc'\n",
    "m_hardware_zinc['unit']='kg'\n",
    "element_df = element_df._append(m_hardware_zinc)"
   ]
  },
  {
   "cell_type": "markdown",
   "id": "5830ccca-d7cd-415b-9f51-f9650e0d34b6",
   "metadata": {},
   "source": [
    "#### Other elements"
   ]
  },
  {
   "cell_type": "markdown",
   "id": "e6b5b955-2874-4073-ab30-b4a058c7019d",
   "metadata": {},
   "source": [
    "Data from table 3 and 4 p42-43"
   ]
  },
  {
   "cell_type": "code",
   "execution_count": 29,
   "id": "8a4d16b2-4a2f-4a28-b3d5-f2cec7d54ea9",
   "metadata": {},
   "outputs": [],
   "source": [
    "v_mould_stator = pd.Series([0.45*0.45*(0.0015*2+0.012),0.55*0.55*(0.0015*2+0.012),0.6*0.6*(0.0015*2+0.012),0.65*0.65*(0.0015*2+0.012),0.7*0.7*(0.0015*2+0.012),'m³']\n",
    "                           ,index = [1800, 2400, 3000, 3600, 4200,'unit']) # 2 planks of 15mm and one of 12mm\n",
    "v_mould_stator.name = \"MouldStator\"\n",
    "element_df = element_df._append(v_mould_stator)\n",
    "\n",
    "v_mould_rotor = pd.Series([0.35*0.35*(0.015+0.006+0.016),0.4*0.4*(0.015+0.006+0.02),0.5*0.5*(0.015+0.006+0.02),0.5*0.5*(0.015+0.006+0.02),0.6*0.6*(0.015+0.006+0.02),'m³'],index = [1800, 2400, 3000, 3600, 4200,'unit'])\n",
    "v_mould_rotor.name = \"MouldRotor\"\n",
    "element_df = element_df._append(v_mould_rotor)"
   ]
  },
  {
   "cell_type": "markdown",
   "id": "9b22ef19-ae09-4c4d-a75e-8e2d36866a96",
   "metadata": {},
   "source": [
    "#### All quantities"
   ]
  },
  {
   "cell_type": "code",
   "execution_count": 30,
   "id": "ab0ed8ed-c462-4d8e-a5af-d352db440c3d",
   "metadata": {},
   "outputs": [
    {
     "data": {
      "text/html": [
       "<div>\n",
       "<style scoped>\n",
       "    .dataframe tbody tr th:only-of-type {\n",
       "        vertical-align: middle;\n",
       "    }\n",
       "\n",
       "    .dataframe tbody tr th {\n",
       "        vertical-align: top;\n",
       "    }\n",
       "\n",
       "    .dataframe thead th {\n",
       "        text-align: right;\n",
       "    }\n",
       "</style>\n",
       "<table border=\"1\" class=\"dataframe\">\n",
       "  <thead>\n",
       "    <tr style=\"text-align: right;\">\n",
       "      <th></th>\n",
       "      <th>1800</th>\n",
       "      <th>2400</th>\n",
       "      <th>3000</th>\n",
       "      <th>3600</th>\n",
       "      <th>4200</th>\n",
       "      <th>unit</th>\n",
       "    </tr>\n",
       "  </thead>\n",
       "  <tbody>\n",
       "    <tr>\n",
       "      <th>Blades</th>\n",
       "      <td>10.6875</td>\n",
       "      <td>14.0625</td>\n",
       "      <td>37.2</td>\n",
       "      <td>69.375</td>\n",
       "      <td>80.625</td>\n",
       "      <td>kg</td>\n",
       "    </tr>\n",
       "    <tr>\n",
       "      <th>BladesAttachement</th>\n",
       "      <td>0.00056548</td>\n",
       "      <td>0.00124898</td>\n",
       "      <td>0.00244923</td>\n",
       "      <td>0.0029</td>\n",
       "      <td>0.00308622</td>\n",
       "      <td>m³</td>\n",
       "    </tr>\n",
       "    <tr>\n",
       "      <th>CopperCoils</th>\n",
       "      <td>2.30123</td>\n",
       "      <td>2.63377</td>\n",
       "      <td>4.25424</td>\n",
       "      <td>4.65464</td>\n",
       "      <td>6.08588</td>\n",
       "      <td>kg</td>\n",
       "    </tr>\n",
       "    <tr>\n",
       "      <th>ResinStator</th>\n",
       "      <td>1.49529</td>\n",
       "      <td>1.78267</td>\n",
       "      <td>2.43537</td>\n",
       "      <td>2.9716</td>\n",
       "      <td>3.58214</td>\n",
       "      <td>kg</td>\n",
       "    </tr>\n",
       "    <tr>\n",
       "      <th>MetalDisks</th>\n",
       "      <td>7.1391</td>\n",
       "      <td>10.5352</td>\n",
       "      <td>14.7161</td>\n",
       "      <td>19.5939</td>\n",
       "      <td>24.1304</td>\n",
       "      <td>kg</td>\n",
       "    </tr>\n",
       "    <tr>\n",
       "      <th>SurfaceDisk</th>\n",
       "      <td>0.606293</td>\n",
       "      <td>0.67103</td>\n",
       "      <td>0.93733</td>\n",
       "      <td>0.998416</td>\n",
       "      <td>1.22958</td>\n",
       "      <td>m²</td>\n",
       "    </tr>\n",
       "    <tr>\n",
       "      <th>Magnet</th>\n",
       "      <td>0.823875</td>\n",
       "      <td>2.47155</td>\n",
       "      <td>2.47155</td>\n",
       "      <td>3.2955</td>\n",
       "      <td>3.2955</td>\n",
       "      <td>kg</td>\n",
       "    </tr>\n",
       "    <tr>\n",
       "      <th>ResinRotor</th>\n",
       "      <td>0.559327</td>\n",
       "      <td>1.69247</td>\n",
       "      <td>2.27552</td>\n",
       "      <td>2.40222</td>\n",
       "      <td>2.70025</td>\n",
       "      <td>kg</td>\n",
       "    </tr>\n",
       "    <tr>\n",
       "      <th>Hub</th>\n",
       "      <td>0.00039774</td>\n",
       "      <td>0.00039774</td>\n",
       "      <td>0.00039774</td>\n",
       "      <td>0.00055104</td>\n",
       "      <td>0.00055974</td>\n",
       "      <td>m³</td>\n",
       "    </tr>\n",
       "    <tr>\n",
       "      <th>Vane</th>\n",
       "      <td>0.00243311</td>\n",
       "      <td>0.00600753</td>\n",
       "      <td>0.00909618</td>\n",
       "      <td>0.0141209</td>\n",
       "      <td>0.0212644</td>\n",
       "      <td>m³</td>\n",
       "    </tr>\n",
       "    <tr>\n",
       "      <th>BoomPipe</th>\n",
       "      <td>2.84735</td>\n",
       "      <td>3.55911</td>\n",
       "      <td>4.27095</td>\n",
       "      <td>5.33871</td>\n",
       "      <td>6.40646</td>\n",
       "      <td>kg</td>\n",
       "    </tr>\n",
       "    <tr>\n",
       "      <th>HingeOuter</th>\n",
       "      <td>1.47007</td>\n",
       "      <td>1.70392</td>\n",
       "      <td>1.93903</td>\n",
       "      <td>2.22296</td>\n",
       "      <td>2.43107</td>\n",
       "      <td>kg</td>\n",
       "    </tr>\n",
       "    <tr>\n",
       "      <th>Bracket+Support+TailStop</th>\n",
       "      <td>1.86037</td>\n",
       "      <td>2.40634</td>\n",
       "      <td>3.12304</td>\n",
       "      <td>4.82956</td>\n",
       "      <td>6.14851</td>\n",
       "      <td>kg</td>\n",
       "    </tr>\n",
       "    <tr>\n",
       "      <th>Frame</th>\n",
       "      <td>3.30202</td>\n",
       "      <td>3.76635</td>\n",
       "      <td>4.46414</td>\n",
       "      <td>5.35401</td>\n",
       "      <td>5.94182</td>\n",
       "      <td>kg</td>\n",
       "    </tr>\n",
       "    <tr>\n",
       "      <th>YawPipe</th>\n",
       "      <td>1.63076</td>\n",
       "      <td>1.95324</td>\n",
       "      <td>2.28867</td>\n",
       "      <td>2.61311</td>\n",
       "      <td>2.87459</td>\n",
       "      <td>kg</td>\n",
       "    </tr>\n",
       "    <tr>\n",
       "      <th>YawPlates</th>\n",
       "      <td>0.404353</td>\n",
       "      <td>0.549186</td>\n",
       "      <td>0.655239</td>\n",
       "      <td>3.80058</td>\n",
       "      <td>5.05454</td>\n",
       "      <td>kg</td>\n",
       "    </tr>\n",
       "    <tr>\n",
       "      <th>Hardware inox</th>\n",
       "      <td>2.48036</td>\n",
       "      <td>2.59262</td>\n",
       "      <td>2.66162</td>\n",
       "      <td>4.59497</td>\n",
       "      <td>4.79813</td>\n",
       "      <td>kg</td>\n",
       "    </tr>\n",
       "    <tr>\n",
       "      <th>Hardware zinc</th>\n",
       "      <td>2.66604</td>\n",
       "      <td>2.66604</td>\n",
       "      <td>2.66604</td>\n",
       "      <td>2.71794</td>\n",
       "      <td>2.71794</td>\n",
       "      <td>kg</td>\n",
       "    </tr>\n",
       "    <tr>\n",
       "      <th>MouldStator</th>\n",
       "      <td>0.0030375</td>\n",
       "      <td>0.0045375</td>\n",
       "      <td>0.0054</td>\n",
       "      <td>0.0063375</td>\n",
       "      <td>0.00735</td>\n",
       "      <td>m³</td>\n",
       "    </tr>\n",
       "    <tr>\n",
       "      <th>MouldRotor</th>\n",
       "      <td>0.0045325</td>\n",
       "      <td>0.00656</td>\n",
       "      <td>0.01025</td>\n",
       "      <td>0.01025</td>\n",
       "      <td>0.01476</td>\n",
       "      <td>m³</td>\n",
       "    </tr>\n",
       "  </tbody>\n",
       "</table>\n",
       "</div>"
      ],
      "text/plain": [
       "                               1800       2400       3000       3600  \\\n",
       "Blades                      10.6875    14.0625       37.2     69.375   \n",
       "BladesAttachement        0.00056548 0.00124898 0.00244923     0.0029   \n",
       "CopperCoils                 2.30123    2.63377    4.25424    4.65464   \n",
       "ResinStator                 1.49529    1.78267    2.43537     2.9716   \n",
       "MetalDisks                   7.1391    10.5352    14.7161    19.5939   \n",
       "SurfaceDisk                0.606293    0.67103    0.93733   0.998416   \n",
       "Magnet                     0.823875    2.47155    2.47155     3.2955   \n",
       "ResinRotor                 0.559327    1.69247    2.27552    2.40222   \n",
       "Hub                      0.00039774 0.00039774 0.00039774 0.00055104   \n",
       "Vane                     0.00243311 0.00600753 0.00909618  0.0141209   \n",
       "BoomPipe                    2.84735    3.55911    4.27095    5.33871   \n",
       "HingeOuter                  1.47007    1.70392    1.93903    2.22296   \n",
       "Bracket+Support+TailStop    1.86037    2.40634    3.12304    4.82956   \n",
       "Frame                       3.30202    3.76635    4.46414    5.35401   \n",
       "YawPipe                     1.63076    1.95324    2.28867    2.61311   \n",
       "YawPlates                  0.404353   0.549186   0.655239    3.80058   \n",
       "Hardware inox               2.48036    2.59262    2.66162    4.59497   \n",
       "Hardware zinc               2.66604    2.66604    2.66604    2.71794   \n",
       "MouldStator               0.0030375  0.0045375     0.0054  0.0063375   \n",
       "MouldRotor                0.0045325    0.00656    0.01025    0.01025   \n",
       "\n",
       "                               4200 unit  \n",
       "Blades                       80.625   kg  \n",
       "BladesAttachement        0.00308622   m³  \n",
       "CopperCoils                 6.08588   kg  \n",
       "ResinStator                 3.58214   kg  \n",
       "MetalDisks                  24.1304   kg  \n",
       "SurfaceDisk                 1.22958   m²  \n",
       "Magnet                       3.2955   kg  \n",
       "ResinRotor                  2.70025   kg  \n",
       "Hub                      0.00055974   m³  \n",
       "Vane                      0.0212644   m³  \n",
       "BoomPipe                    6.40646   kg  \n",
       "HingeOuter                  2.43107   kg  \n",
       "Bracket+Support+TailStop    6.14851   kg  \n",
       "Frame                       5.94182   kg  \n",
       "YawPipe                     2.87459   kg  \n",
       "YawPlates                   5.05454   kg  \n",
       "Hardware inox               4.79813   kg  \n",
       "Hardware zinc               2.71794   kg  \n",
       "MouldStator                 0.00735   m³  \n",
       "MouldRotor                  0.01476   m³  "
      ]
     },
     "execution_count": 30,
     "metadata": {},
     "output_type": "execute_result"
    }
   ],
   "source": [
    "element_df"
   ]
  },
  {
   "cell_type": "markdown",
   "id": "30f907e1-3ad4-4ba1-aaf8-05342ef7c37d",
   "metadata": {},
   "source": [
    "### Regression"
   ]
  },
  {
   "cell_type": "code",
   "execution_count": 31,
   "id": "9b360747-6299-4233-bd3c-82f405d37138",
   "metadata": {},
   "outputs": [
    {
     "name": "stderr",
     "output_type": "stream",
     "text": [
      "C:\\Users\\prevosad\\AppData\\Local\\Temp\\ipykernel_11332\\139220996.py:10: FutureWarning: The behavior of DataFrame concatenation with empty or all-NA entries is deprecated. In a future version, this will no longer exclude empty or all-NA columns when determining the result dtypes. To retain the old behavior, exclude the relevant entries before the concat operation.\n",
      "  regression_df=regression_df._append(new_row,ignore_index=True)\n"
     ]
    },
    {
     "data": {
      "text/html": [
       "<div>\n",
       "<style scoped>\n",
       "    .dataframe tbody tr th:only-of-type {\n",
       "        vertical-align: middle;\n",
       "    }\n",
       "\n",
       "    .dataframe tbody tr th {\n",
       "        vertical-align: top;\n",
       "    }\n",
       "\n",
       "    .dataframe thead th {\n",
       "        text-align: right;\n",
       "    }\n",
       "</style>\n",
       "<table border=\"1\" class=\"dataframe\">\n",
       "  <thead>\n",
       "    <tr style=\"text-align: right;\">\n",
       "      <th></th>\n",
       "      <th>Regression</th>\n",
       "      <th>r2</th>\n",
       "      <th>unit</th>\n",
       "    </tr>\n",
       "    <tr>\n",
       "      <th>Component</th>\n",
       "      <th></th>\n",
       "      <th></th>\n",
       "      <th></th>\n",
       "    </tr>\n",
       "  </thead>\n",
       "  <tbody>\n",
       "    <tr>\n",
       "      <th>Blades</th>\n",
       "      <td>[4.9181547619047645e-06, 0.003022321428571413,...</td>\n",
       "      <td>0.957552</td>\n",
       "      <td>kg</td>\n",
       "    </tr>\n",
       "    <tr>\n",
       "      <th>BladesAttachement</th>\n",
       "      <td>[-3.46039682539679e-10, 3.1916547619047434e-06...</td>\n",
       "      <td>0.978161</td>\n",
       "      <td>m³</td>\n",
       "    </tr>\n",
       "    <tr>\n",
       "      <th>CopperCoils</th>\n",
       "      <td>[1.939128888888893e-07, 0.00043488661333333193...</td>\n",
       "      <td>0.965594</td>\n",
       "      <td>kg</td>\n",
       "    </tr>\n",
       "    <tr>\n",
       "      <th>ResinStator</th>\n",
       "      <td>[1.0513285714285701e-07, 0.0002629744571428582...</td>\n",
       "      <td>0.994871</td>\n",
       "      <td>kg</td>\n",
       "    </tr>\n",
       "    <tr>\n",
       "      <th>MetalDisks</th>\n",
       "      <td>[5.908371031746079e-07, 0.003628542880952355, ...</td>\n",
       "      <td>0.999249</td>\n",
       "      <td>kg</td>\n",
       "    </tr>\n",
       "    <tr>\n",
       "      <th>SurfaceDisk</th>\n",
       "      <td>[2.5323941798942096e-08, 0.0001103815714285696...</td>\n",
       "      <td>0.965714</td>\n",
       "      <td>m²</td>\n",
       "    </tr>\n",
       "    <tr>\n",
       "      <th>Magnet</th>\n",
       "      <td>[-4.903571428571396e-07, 0.00390334285714284, ...</td>\n",
       "      <td>0.923811</td>\n",
       "      <td>kg</td>\n",
       "    </tr>\n",
       "    <tr>\n",
       "      <th>ResinRotor</th>\n",
       "      <td>[-4.219399999999963e-07, 0.0033635746666666484...</td>\n",
       "      <td>0.980452</td>\n",
       "      <td>kg</td>\n",
       "    </tr>\n",
       "    <tr>\n",
       "      <th>Hub</th>\n",
       "      <td>[3.3869047619047496e-11, -1.236642857142851e-0...</td>\n",
       "      <td>0.83259</td>\n",
       "      <td>m³</td>\n",
       "    </tr>\n",
       "    <tr>\n",
       "      <th>Vane</th>\n",
       "      <td>[1.8004444444444402e-09, -3.1733299999999777e-...</td>\n",
       "      <td>0.996531</td>\n",
       "      <td>m³</td>\n",
       "    </tr>\n",
       "    <tr>\n",
       "      <th>BoomPipe</th>\n",
       "      <td>[2.1188769841269866e-07, 0.0002116434761904747...</td>\n",
       "      <td>0.999096</td>\n",
       "      <td>kg</td>\n",
       "    </tr>\n",
       "    <tr>\n",
       "      <th>HingeOuter</th>\n",
       "      <td>[-5.295634920634973e-10, 0.0004100167142857142...</td>\n",
       "      <td>0.998294</td>\n",
       "      <td>kg</td>\n",
       "    </tr>\n",
       "    <tr>\n",
       "      <th>Bracket+Support+TailStop</th>\n",
       "      <td>[5.031320436507922e-07, -0.0011855425119047533...</td>\n",
       "      <td>0.992093</td>\n",
       "      <td>kg</td>\n",
       "    </tr>\n",
       "    <tr>\n",
       "      <th>Frame</th>\n",
       "      <td>[8.711319444444476e-08, 0.0006218639166666653,...</td>\n",
       "      <td>0.993362</td>\n",
       "      <td>kg</td>\n",
       "    </tr>\n",
       "    <tr>\n",
       "      <th>YawPipe</th>\n",
       "      <td>[-2.6384722222221395e-08, 0.000682897666666661...</td>\n",
       "      <td>0.999408</td>\n",
       "      <td>kg</td>\n",
       "    </tr>\n",
       "    <tr>\n",
       "      <th>YawPlates</th>\n",
       "      <td>[1.0431622023809477e-06, -0.004167013630952356...</td>\n",
       "      <td>0.933671</td>\n",
       "      <td>kg</td>\n",
       "    </tr>\n",
       "    <tr>\n",
       "      <th>Hardware inox</th>\n",
       "      <td>[4.0598136944444325e-07, -0.001329575165666660...</td>\n",
       "      <td>0.867758</td>\n",
       "      <td>kg</td>\n",
       "    </tr>\n",
       "    <tr>\n",
       "      <th>Hardware zinc</th>\n",
       "      <td>[1.0297619047619049e-08, -3.583571428571468e-0...</td>\n",
       "      <td>0.809524</td>\n",
       "      <td>kg</td>\n",
       "    </tr>\n",
       "    <tr>\n",
       "      <th>MouldStator</th>\n",
       "      <td>[-1.785714285714263e-10, 2.8089285714285604e-0...</td>\n",
       "      <td>0.994718</td>\n",
       "      <td>m³</td>\n",
       "    </tr>\n",
       "    <tr>\n",
       "      <th>MouldRotor</th>\n",
       "      <td>[2.5297619047619234e-10, 2.506309523809515e-06...</td>\n",
       "      <td>0.944466</td>\n",
       "      <td>m³</td>\n",
       "    </tr>\n",
       "  </tbody>\n",
       "</table>\n",
       "</div>"
      ],
      "text/plain": [
       "                                                                 Regression  \\\n",
       "Component                                                                     \n",
       "Blades                    [4.9181547619047645e-06, 0.003022321428571413,...   \n",
       "BladesAttachement         [-3.46039682539679e-10, 3.1916547619047434e-06...   \n",
       "CopperCoils               [1.939128888888893e-07, 0.00043488661333333193...   \n",
       "ResinStator               [1.0513285714285701e-07, 0.0002629744571428582...   \n",
       "MetalDisks                [5.908371031746079e-07, 0.003628542880952355, ...   \n",
       "SurfaceDisk               [2.5323941798942096e-08, 0.0001103815714285696...   \n",
       "Magnet                    [-4.903571428571396e-07, 0.00390334285714284, ...   \n",
       "ResinRotor                [-4.219399999999963e-07, 0.0033635746666666484...   \n",
       "Hub                       [3.3869047619047496e-11, -1.236642857142851e-0...   \n",
       "Vane                      [1.8004444444444402e-09, -3.1733299999999777e-...   \n",
       "BoomPipe                  [2.1188769841269866e-07, 0.0002116434761904747...   \n",
       "HingeOuter                [-5.295634920634973e-10, 0.0004100167142857142...   \n",
       "Bracket+Support+TailStop  [5.031320436507922e-07, -0.0011855425119047533...   \n",
       "Frame                     [8.711319444444476e-08, 0.0006218639166666653,...   \n",
       "YawPipe                   [-2.6384722222221395e-08, 0.000682897666666661...   \n",
       "YawPlates                 [1.0431622023809477e-06, -0.004167013630952356...   \n",
       "Hardware inox             [4.0598136944444325e-07, -0.001329575165666660...   \n",
       "Hardware zinc             [1.0297619047619049e-08, -3.583571428571468e-0...   \n",
       "MouldStator               [-1.785714285714263e-10, 2.8089285714285604e-0...   \n",
       "MouldRotor                [2.5297619047619234e-10, 2.506309523809515e-06...   \n",
       "\n",
       "                               r2 unit  \n",
       "Component                               \n",
       "Blades                   0.957552   kg  \n",
       "BladesAttachement        0.978161   m³  \n",
       "CopperCoils              0.965594   kg  \n",
       "ResinStator              0.994871   kg  \n",
       "MetalDisks               0.999249   kg  \n",
       "SurfaceDisk              0.965714   m²  \n",
       "Magnet                   0.923811   kg  \n",
       "ResinRotor               0.980452   kg  \n",
       "Hub                       0.83259   m³  \n",
       "Vane                     0.996531   m³  \n",
       "BoomPipe                 0.999096   kg  \n",
       "HingeOuter               0.998294   kg  \n",
       "Bracket+Support+TailStop 0.992093   kg  \n",
       "Frame                    0.993362   kg  \n",
       "YawPipe                  0.999408   kg  \n",
       "YawPlates                0.933671   kg  \n",
       "Hardware inox            0.867758   kg  \n",
       "Hardware zinc            0.809524   kg  \n",
       "MouldStator              0.994718   m³  \n",
       "MouldRotor               0.944466   m³  "
      ]
     },
     "execution_count": 31,
     "metadata": {},
     "output_type": "execute_result"
    }
   ],
   "source": [
    "regression_df = pd.DataFrame(columns=['Component','Regression','r2','unit'])\n",
    "for i in range(len(element_df)) : \n",
    "    r = element_df.iloc[i][:5]\n",
    "    r=r.astype(float)\n",
    "    r.index = r.index.astype(float)\n",
    "    v_coeff= np.polyfit(r.index,r.values, deg = 2)\n",
    "    v_reg = np.polyval(v_coeff,r.index)\n",
    "    r2 = r2_score(r.values,v_reg)\n",
    "    new_row = {\"Component\":element_df.index[i],\"Regression\":v_coeff,\"r2\":r2,\"unit\":element_df.iloc[i]['unit']}\n",
    "    regression_df=regression_df._append(new_row,ignore_index=True)\n",
    "regression_df = regression_df.set_index('Component')\n",
    "regression_df"
   ]
  },
  {
   "cell_type": "markdown",
   "id": "14d887b0-807d-4758-b154-b1d68fb86145",
   "metadata": {},
   "source": [
    "### Plot"
   ]
  },
  {
   "cell_type": "code",
   "execution_count": 32,
   "id": "95d150c6-0a08-4809-ba81-845ad035bc25",
   "metadata": {},
   "outputs": [
    {
     "data": {
      "image/png": "[encoded data removed]",
      "text/plain": [
       "<Figure size 1000x500 with 1 Axes>"
      ]
     },
     "metadata": {},
     "output_type": "display_data"
    }
   ],
   "source": [
    "elem = 'Vane' #Change the name to plot other elements\n",
    "# Plotting\n",
    "r = element_df.loc[elem][:5]\n",
    "r2 = regression_df.loc[elem]['r2']\n",
    "v_coeff = regression_df.loc[elem].iloc[0]\n",
    "diam_range = np.linspace(min(diam), max(diam), 50)\n",
    "x_vals =diam_range\n",
    "y_vals = np.polyval(v_coeff,x_vals)\n",
    "plt.figure(figsize=(10, 5))\n",
    "plt.plot(x_vals, y_vals, label=f\"Regression (r²={round(r2,3)})\", color='blue')\n",
    "plt.scatter(diam,r.values , color='red', label=\"Data Points\", zorder=5)\n",
    "plt.xlabel(\"Diameter [mm]\")\n",
    "plt.ylabel(f\"Quantity [{element_df.loc[elem]['unit']}]\")\n",
    "plt.title(f\"Regression on the quantity of {elem}\")\n",
    "plt.legend()\n",
    "plt.grid(True)\n",
    "plt.tight_layout()\n",
    "plt.show()"
   ]
  },
  {
   "cell_type": "markdown",
   "id": "7b698fae",
   "metadata": {},
   "source": [
    "Now the mass model of the wind turbine is complete. Next step is to link theses functions to activities in the Ecoinvent database."
   ]
  },
  {
   "cell_type": "markdown",
   "id": "60b87c98-72e1-47eb-8409-b3d088802470",
   "metadata": {},
   "source": [
    "# Activities"
   ]
  },
  {
   "cell_type": "code",
   "execution_count": 33,
   "id": "d730eec9-41c1-403b-b9c5-f3ea9caeae0c",
   "metadata": {},
   "outputs": [],
   "source": [
    "#System \n",
    "strc = \"Structure\"\n",
    "wg = \"Windgenerator\"\n",
    "\n",
    "\n",
    "#Subsystem structure\n",
    "rigging = \"Rigging\"\n",
    "mast = \"Mast\"\n",
    "fundation = \"Fundation\"\n",
    "elec = \"Electronics\"\n",
    "\n",
    "#Subsystem wind generator\n",
    "prop = \"Propeller\"\n",
    "stat = \"Stator\"\n",
    "rot = \"Rotor\"\n",
    "hub = \"Hub\"\n",
    "tail = \"Tail\"\n",
    "nac = \"Nacelle\"\n",
    "hard = \"Hardware\"\n",
    "oth = \"Other elements\"\n",
    "\n",
    "\n",
    "#Materials\n",
    "\n",
    "cable = \"Cable\"\n",
    "conc = \"Concrete\"\n",
    "copper = \"Copper\"\n",
    "ix = \"inox\"\n",
    "mgn = \"Magnet\"\n",
    "resin = \"Resin\"\n",
    "steel = \"Steel\"\n",
    "wood = \"Wood\"\n",
    "zc_c = \"Zinc coating\"\n",
    "\n"
   ]
  },
  {
   "cell_type": "markdown",
   "id": "8131f490-4b4c-4e70-abcd-034fcdfde0fe",
   "metadata": {},
   "source": [
    "## Steel mix (not used)"
   ]
  },
  {
   "cell_type": "code",
   "execution_count": 34,
   "id": "e5db5bbf-05d2-43b6-a74e-2c98055a3886",
   "metadata": {},
   "outputs": [],
   "source": [
    "steel_un_converter_ecoinvent=agb.findTechAct(\"steel production, converter, unalloyed\",\"RER\")\n",
    "steel_low_converter_ecoinvent = agb.findTechAct(\"steel production, converter, low-alloyed\",\"RER\")\n",
    "steel_low_elec_ecoinvent = agb.findTechAct(\"steel production, electric, low-alloyed\",\"Europe without Switzerland and Austria\")\n",
    "\n",
    "steel_un_mix = agb.newActivity(\n",
    "     DB_SYST,\n",
    "    \"Production of unalloyed steel in Europe\",\n",
    "    unit = \"kg\",\n",
    "    exchanges = {\n",
    "        steel_un_converter_ecoinvent : 0.55,\n",
    "        steel_low_elec_ecoinvent : 0.45,\n",
    "    })\n",
    "\n",
    "steel_low_mix = agb.newActivity(\n",
    "     DB_SYST,\n",
    "    \"Production of low alloyed steel in Europe\",\n",
    "    unit = \"kg\",\n",
    "    exchanges = {\n",
    "        steel_low_converter_ecoinvent : 0.55,\n",
    "        steel_low_elec_ecoinvent : 0.45,\n",
    "    })\n",
    "\n",
    "steel_un_choice = agb.newSwitchAct(\n",
    "                    DB_SYST, # Database where the new activity is created\n",
    "                    \"Choice of mix for steel unalloyed production\",\n",
    "                    steel_mix, #enum parameter that is used to switch the activity\n",
    "                            {\n",
    "                                \"Converter\":steel_un_converter_ecoinvent,\n",
    "                                \"Converter_elec\": steel_un_mix,\n",
    "                            })\n",
    "\n",
    "steel_low_choice = agb.newSwitchAct(\n",
    "                    DB_SYST, # Database where the new activity is created\n",
    "                    \"Choice of mix for steel lowalloyed production\",\n",
    "                    steel_mix, #enum parameter that is used to switch the activity\n",
    "                            {\n",
    "                                \"Converter\":steel_low_converter_ecoinvent,\n",
    "                                \"Converter_elec\": steel_low_mix,\n",
    "                            })\n",
    "\n",
    "\n",
    "steel_un = agb.newActivity(\n",
    "    DB_SYST,\n",
    "    \"steel, unalloyed\",\n",
    "    unit = \"kg\",\n",
    "    exchanges = {\n",
    "        steel_un_choice : 1\n",
    "    })\n",
    "\n",
    "steel_low = agb.newActivity(\n",
    "    DB_SYST,\n",
    "    \"steel, lowallyed\",\n",
    "    unit = \"kg\",\n",
    "    exchanges = {\n",
    "        steel_low_choice :1\n",
    "    })\n"
   ]
  },
  {
   "cell_type": "markdown",
   "id": "6ea7e724-5ada-4929-83ec-3a7eab9b753a",
   "metadata": {},
   "source": [
    "## Structure"
   ]
  },
  {
   "cell_type": "markdown",
   "id": "365f8c34-fbea-4c8a-ac6d-d9d0084e98c9",
   "metadata": {},
   "source": [
    "### Fundation"
   ]
  },
  {
   "cell_type": "code",
   "execution_count": 35,
   "id": "edd75089-ed15-486e-8990-b1dab5af2ec0",
   "metadata": {},
   "outputs": [],
   "source": [
    "concrete_ecoinvent = agb.findTechAct(\"concrete, all types to generic market for concrete, normal strength\",\"RoW\")\n",
    "\n",
    "\n",
    "Concrete = agb.newActivity(\n",
    "    DB_SYST,\n",
    "    \"concrete fondation\",\n",
    "    unit = \"m³\",\n",
    "    subsystem = fundation,\n",
    "    element = \"concrete\",\n",
    "    material = conc,\n",
    "    exchanges = {\n",
    "        concrete_ecoinvent : 1,\n",
    "    })"
   ]
  },
  {
   "cell_type": "code",
   "execution_count": 37,
   "id": "946ce604-6d25-46e2-904f-faabfeb8f4b1",
   "metadata": {},
   "outputs": [
    {
     "name": "stderr",
     "output_type": "stream",
     "text": [
      "[WARNING] Activity 'Reinforced steel' was already in 'bdd_syst'. Overwriting it\n",
      "[WARNING] Activity 'Concrete reinforcing bar HA10' was already in 'bdd_syst'. Overwriting it\n"
     ]
    }
   ],
   "source": [
    "Reinforced_steel_ecoinvent = agb.findTechAct(\"reinforcing steel production\",\"Europe without Austria\")\n",
    "\n",
    "Reinforced_steel = agb.newActivity(\n",
    "    DB_SYST,\n",
    "    \"Reinforced steel\",\n",
    "    unit = \"kg\",\n",
    "    material = steel,\n",
    "    exchanges = {Reinforced_steel_ecoinvent : 1}\n",
    "    )\n",
    "\n",
    "Rebar_HA10 = agb.newActivity(\n",
    "    DB_SYST,\n",
    "    \"Concrete reinforcing bar HA10\",\n",
    "    unit = \"unit\",\n",
    "    subsystem = fundation,\n",
    "    element = \"rebar\",\n",
    "    exchanges = {\n",
    "        Reinforced_steel : np.polyval(rebar_coeff,h),\n",
    "    })"
   ]
  },
  {
   "cell_type": "code",
   "execution_count": 38,
   "id": "f20bee75-6595-417f-9ff7-7f2ff6320909",
   "metadata": {},
   "outputs": [],
   "source": [
    "zinc_coating_ecoinvent = agb.findTechAct(\"zinc coating, pieces\",\"RER\")\n",
    "\n",
    "\n",
    "zinc_coating = agb.newActivity(\n",
    "    DB_SYST,\n",
    "    \"Zinc coating\",\n",
    "    unit = \"m²\",\n",
    "    material = zc_c,\n",
    "    exchanges = {zinc_coating_ecoinvent : 1}\n",
    "    )\n",
    "\n",
    "Anchor_unzinc = agb.newActivity(\n",
    "    DB_SYST,\n",
    "    \"Anchor, not galvanised\",\n",
    "    unit = \"unit\",\n",
    "    exchanges = {\n",
    "        Reinforced_steel : 8.5 *1.578,\n",
    "    })\n",
    "\n",
    "Anchor = agb.newActivity(\n",
    "    DB_SYST,\n",
    "    \"Anchor, galvanised\",\n",
    "    unit = \"unit\",\n",
    "    subsystem = fundation,\n",
    "    element = \"anchor\",\n",
    "    exchanges = {\n",
    "        Anchor_unzinc : 1,\n",
    "        zinc_coating : np.pi*8.5*0.016\n",
    "    })"
   ]
  },
  {
   "cell_type": "code",
   "execution_count": 39,
   "id": "49bfef83-e72d-4262-9e0c-6cadb2f48a4b",
   "metadata": {},
   "outputs": [],
   "source": [
    "fundation_total = agb.newActivity(\n",
    "    DB_SYST,\n",
    "    \"Fundation\",\n",
    "    unit = \"unit\",\n",
    "    exchanges = {\n",
    "        Concrete : conc_fitted_model,\n",
    "        Rebar_HA10 : 1,\n",
    "        Anchor : 1,\n",
    "        \n",
    "    })"
   ]
  },
  {
   "cell_type": "markdown",
   "id": "655e5c7a-2b53-4d31-8ae3-14fc38a1da3b",
   "metadata": {},
   "source": [
    "### Mast"
   ]
  },
  {
   "cell_type": "code",
   "execution_count": 40,
   "id": "30375023-e27b-4bb7-b560-61294a402a9f",
   "metadata": {},
   "outputs": [],
   "source": [
    "drawing_of_pipe = agb.findTechAct(\"drawing of pipe, steel\",\"RER\")\n",
    "\n",
    "steel_tube = agb.newActivity(\n",
    "    DB_SYST,\n",
    "    name=\"Steel tube\",\n",
    "    unit=\"kg\",\n",
    "    subsystem = mast,\n",
    "    element = \"steel tube\",\n",
    "    material = steel,\n",
    "    exchanges = {\n",
    "        steel_un : 1,\n",
    "        drawing_of_pipe : 1,\n",
    "    })\n"
   ]
  },
  {
   "cell_type": "code",
   "execution_count": 41,
   "id": "b79de621-8ca3-4b43-85db-07458525e224",
   "metadata": {},
   "outputs": [],
   "source": [
    "av_work_steel = agb.findTechAct(\"metal working, average for steel product manufacturing\",\"RER\")\n",
    "\n",
    "\n",
    "swivel_pin_unzinc = agb.newActivity(\n",
    "    DB_SYST,\n",
    "    name=\"Threaded rod , not galvanised, for the swivel pin\",\n",
    "    unit=\"unit\",\n",
    "    material = steel,\n",
    "    exchanges = {\n",
    "        steel_low : rho_steel*np.pi*0.018**2/4*1,\n",
    "        av_work_steel: rho_steel*np.pi*0.018**2/4*1,\n",
    "    })\n",
    "\n",
    "swivel_pin = agb.newActivity(\n",
    "    DB_SYST,\n",
    "    name=\"Threaded rod galvanised for the swivel pin\",\n",
    "    unit=\"unit\",\n",
    "    subsystem = mast,\n",
    "    element = \"swiwel_pin\",\n",
    "    exchanges = {\n",
    "        swivel_pin_unzinc:1,\n",
    "        zinc_coating : np.pi*0.018*1,    \n",
    "    })"
   ]
  },
  {
   "cell_type": "code",
   "execution_count": 42,
   "id": "4359ee77-945b-427a-8f34-42ba312371b7",
   "metadata": {},
   "outputs": [],
   "source": [
    "gusset = agb.newActivity(\n",
    "    DB_SYST,\n",
    "    name=\"Gussets\",\n",
    "    unit=\"kg\",\n",
    "    subsystem = mast,\n",
    "    element = \"gussets\",\n",
    "    material = steel,\n",
    "    exchanges = {\n",
    "        steel_un : 1,\n",
    "    })"
   ]
  },
  {
   "cell_type": "code",
   "execution_count": 43,
   "id": "58396720-527b-4ce7-a98b-fa5097e96fc1",
   "metadata": {},
   "outputs": [],
   "source": [
    "base = agb.newActivity(\n",
    "    DB_SYST,\n",
    "    name=\"Mast base\",\n",
    "    unit=\"unit\",\n",
    "    subsystem = mast,\n",
    "    element = \"base\",\n",
    "    material = steel,\n",
    "    exchanges = {\n",
    "        steel_un : rho_steel*1*0.1*0.01+rho_steel*1*0.06*0.008*2,\n",
    "    })"
   ]
  },
  {
   "cell_type": "code",
   "execution_count": 44,
   "id": "df03afe3-fbd6-463a-ab3f-a9adffc92d7b",
   "metadata": {},
   "outputs": [],
   "source": [
    "welding_ecoinvent = agb.findTechAct(\"welding, arc, steel\",\"RER\")\n",
    "\n",
    "welding = agb.newActivity(\n",
    "    DB_SYST,\n",
    "    name=\"Arc welding\",\n",
    "    unit=\"m\",\n",
    "    subsystem = mast,\n",
    "    element = \"welding\",\n",
    "    material = steel,\n",
    "    exchanges = {\n",
    "        welding_ecoinvent : 1,\n",
    "    })"
   ]
  },
  {
   "cell_type": "code",
   "execution_count": 45,
   "id": "e693ca67-36fe-490b-b598-2e7ac3ef0fae",
   "metadata": {},
   "outputs": [],
   "source": [
    "mast_total = agb.newActivity(\n",
    "    DB_SYST,\n",
    "    name=\"Mast of height h\",\n",
    "    unit=\"unit\",\n",
    "    exchanges = {\n",
    "        steel_tube : tower_steel_tube_mass(h),\n",
    "        swivel_pin : 1,\n",
    "        gusset : rho_steel*(0.113*h + 0.68)*0.05*0.008,\n",
    "        base : 1,\n",
    "        welding : 5,\n",
    "        \n",
    "    })"
   ]
  },
  {
   "cell_type": "markdown",
   "id": "9e61ba5c-8399-493a-b1ac-3c5270d6dd1a",
   "metadata": {},
   "source": [
    "### Rigging"
   ]
  },
  {
   "cell_type": "code",
   "execution_count": 46,
   "id": "5cc8713a-866c-49ff-b980-8d18ec144b24",
   "metadata": {},
   "outputs": [],
   "source": [
    "hardware_unzinc_rigging = agb.newActivity(\n",
    "    DB_SYST,\n",
    "    \"Hardware for rigging, not galvanised\",\n",
    "    unit = \"unit\",\n",
    "    material = steel,\n",
    "    exchanges = { \n",
    "        steel_low : 0.92*h+1.28,\n",
    "        av_work_steel : 0.92*h+1.28,\n",
    "        \n",
    "    })\n",
    "\n",
    "hardware_zinc_rigging = agb.newActivity(\n",
    "    DB_SYST,\n",
    "    \"Hardware for rigging, galvanised\",\n",
    "    unit = \"unit\",\n",
    "    subsystem = rigging,\n",
    "    element = \"hardware\",\n",
    "    exchanges = { \n",
    "       hardware_unzinc_rigging : 1,\n",
    "       zinc_coating : 0.0552*h+0.0771\n",
    "    })\n",
    "\n"
   ]
  },
  {
   "cell_type": "code",
   "execution_count": 47,
   "id": "78b8873e-4ee9-45da-9569-679ddf3b5e06",
   "metadata": {},
   "outputs": [],
   "source": [
    "steel_wire_drawing = agb.findTechAct(\"wire drawing, steel\",\"RER\")\n",
    "\n",
    "guy_wire_unzinc = agb.newActivity(\n",
    "    DB_SYST,\n",
    "    \"Guy wires, not galvanised\",\n",
    "    unit = \"unit\",\n",
    "    material = steel,\n",
    "    exchanges = { \n",
    "        steel_un : mass_wire_steel(h),\n",
    "        steel_wire_drawing : mass_wire_steel(h),\n",
    "    })\n",
    "\n",
    "guy_wire = agb.newActivity(\n",
    "    DB_SYST,\n",
    "    \"Guy wires, galvanised\",\n",
    "    unit = \"unit\",\n",
    "    subsystem = rigging,\n",
    "    element = \"guy wires\",\n",
    "    exchanges = { \n",
    "       guy_wire_unzinc : 1,\n",
    "        zinc_coating : A*Length_wire_steel_regression(h),\n",
    "    })"
   ]
  },
  {
   "cell_type": "code",
   "execution_count": 48,
   "id": "2d72421e-ac90-4ef2-a3dc-1bc8df5b3e39",
   "metadata": {},
   "outputs": [],
   "source": [
    "guy_wire_distributor = agb.newActivity(\n",
    "    DB_SYST,\n",
    "    \"Guy wires distributors\",\n",
    "    unit = \"unit\",\n",
    "    subsystem = rigging,\n",
    "    element = \"distributor\",\n",
    "    material = steel,\n",
    "    exchanges = { \n",
    "        steel_low : rho_steel*0.15*0.008*1.2,\n",
    "    })"
   ]
  },
  {
   "cell_type": "code",
   "execution_count": 49,
   "id": "d237bd95-9a6c-4390-931b-42636e87aa50",
   "metadata": {},
   "outputs": [],
   "source": [
    "rigging_total = agb.newActivity(\n",
    "    DB_SYST,\n",
    "    \"Rigging\",\n",
    "    unit = \"unit\",\n",
    "    exchanges = { \n",
    "        hardware_zinc_rigging : 1,\n",
    "        guy_wire : 1,\n",
    "        guy_wire_distributor : 1,\n",
    "    })"
   ]
  },
  {
   "cell_type": "markdown",
   "id": "f6315ab4-d8f3-4de7-b593-33be1b9fb6d2",
   "metadata": {},
   "source": [
    "### Cable 48V"
   ]
  },
  {
   "cell_type": "markdown",
   "id": "fd3ef9d7-06c1-4aa6-961a-236331833ac8",
   "metadata": {},
   "source": [
    "Modelling of the cable come from the work of A.Prévost"
   ]
  },
  {
   "cell_type": "code",
   "execution_count": 50,
   "id": "49324c3d-15c6-478f-a644-b6d73506e1c9",
   "metadata": {},
   "outputs": [],
   "source": [
    "copper_cathode = agb.findTechAct(\"market for copper, cathode\",\"GLO\")\n",
    "copper_wire_drawing = agb.findTechAct(\"wire drawing, copper\",\"RER\")\n",
    "\n",
    "copper_wire = agb.newActivity(\n",
    "    DB_SYST,\n",
    "    \"Copper wires for cable\",\n",
    "    unit =\"unit/m\",\n",
    "    exchanges = {\n",
    "        copper_cathode : 8960*3*0.000004,\n",
    "        copper_wire_drawing : 8960*3*0.000004,\n",
    "    })"
   ]
  },
  {
   "cell_type": "code",
   "execution_count": 51,
   "id": "656062ac-45b4-4bdb-9726-fe567ed02f57",
   "metadata": {},
   "outputs": [],
   "source": [
    "polyethylene = agb.findTechAct(\"polyethylene production, high density, granulate\",\"RER\")\n",
    "extrusion_plastic = agb.findTechAct(\"extrusion, plastic pipes\",\"RER\")\n",
    "machine = agb.findTechAct(\"rolling mill production\",\"RER\")\n",
    "Tap_water = agb.findTechAct(\"market for tap water\",\"Europe without Switzerland\")\n",
    "\n",
    "plastic = agb.newActivity(\n",
    "    DB_SYST,\n",
    "    \"Plastic cover\",\n",
    "    unit = \"unit/m\",\n",
    "    exchanges = {\n",
    "        polyethylene : 0.011848,\n",
    "        extrusion_plastic : 0.011848,\n",
    "        machine : 0.000000000021234/h,\n",
    "        Tap_water : 17.424/12,\n",
    "    })"
   ]
  },
  {
   "cell_type": "code",
   "execution_count": 52,
   "id": "be90cff7-6a7c-45b6-9fa2-5cb528eb8b41",
   "metadata": {},
   "outputs": [],
   "source": [
    "cable_48V = agb.newActivity(\n",
    "    DB_SYST,\n",
    "    \"Cable 48V\",\n",
    "    unit='unit/m',\n",
    "    subsystem = elec,\n",
    "    material = cable,\n",
    "    exchanges = {\n",
    "        copper_wire : 1,\n",
    "        plastic : 1,\n",
    "    })"
   ]
  },
  {
   "cell_type": "markdown",
   "id": "f14357b1-ac1b-4fae-88b7-74f2338f8474",
   "metadata": {},
   "source": [
    "### Complete structure"
   ]
  },
  {
   "cell_type": "code",
   "execution_count": 53,
   "id": "a8a4127d-ad03-4b78-8965-4f795efe505f",
   "metadata": {},
   "outputs": [],
   "source": [
    "structure = agb.newActivity(\n",
    "    DB_SYST,\n",
    "    name=\"Complete structure\",\n",
    "    unit=\"unit\",\n",
    "    system = strc,\n",
    "    exchanges = {\n",
    "        fundation_total : 1,\n",
    "        mast_total : 1,\n",
    "        rigging_total : 1,\n",
    "        cable_48V : h,\n",
    "    })\n",
    "\n"
   ]
  },
  {
   "cell_type": "markdown",
   "id": "f9f274e1-4a17-470f-8b1a-9b29139b200c",
   "metadata": {},
   "source": [
    "## Wind generator"
   ]
  },
  {
   "cell_type": "markdown",
   "id": "5dee6e08-c716-4a4e-85a1-4f8bad622265",
   "metadata": {},
   "source": [
    "### Propeller"
   ]
  },
  {
   "cell_type": "code",
   "execution_count": 54,
   "id": "252938f0-89d5-4a74-8afb-e634eca82212",
   "metadata": {},
   "outputs": [],
   "source": [
    "swood=agb.findActivity(name = \"planing, beam, softwood, u=20%\",loc = \"Europe without Switzerland\",db_name = \"ecoinvent-3.8-cutoff\",unit =\"kilogram\")\n",
    "plywood = agb.findActivity(name = \"plywood production\",loc = \"RER\",db_name = \"ecoinvent-3.8-cutoff\", unit =\"cubic meter\")\n",
    "\n",
    "\n",
    "propeller = agb.newActivity(\n",
    "    DB_SYST,\n",
    "    name=\"Propeller\",\n",
    "    unit=\"unit\",\n",
    "    subsystem = prop,\n",
    "    material = wood,\n",
    "    exchanges = {\n",
    "        swood : np.polyval(regression_df.loc['Blades'].iloc[0],d),\n",
    "        plywood :  np.polyval(regression_df.loc['BladesAttachement'].iloc[0],d)*1e-6,\n",
    "    })"
   ]
  },
  {
   "cell_type": "markdown",
   "id": "2c54dead-35e0-420b-be67-8d843bb0fd00",
   "metadata": {},
   "source": [
    "### Stator"
   ]
  },
  {
   "cell_type": "markdown",
   "id": "c46767ff-ce9b-4b23-8eff-cde4f08e305e",
   "metadata": {},
   "source": [
    "The inventory for the copper coils come from the study Nordelöf, A., Tillman, AM. A scalable life cycle inventory of an electrical automotive traction machine—Part II: manufacturing processes. Int J Life Cycle Assess 23, 295–313 (2018). https://doi.org/10.1007/s11367-017-1309-8"
   ]
  },
  {
   "cell_type": "code",
   "execution_count": 55,
   "id": "a85befe4-2d31-46e3-9206-e354f1ef86f4",
   "metadata": {},
   "outputs": [],
   "source": [
    "sheet_rolling = agb.findTechAct(\"sheet rolling, copper\",\"RER\")\n",
    "resin_enam = agb.findTechAct(\"polyester resin production, unsaturated\",\"RER\")\n",
    "xylene = agb.findTechAct(\"xylene production\",\"RER\")\n",
    "elec = agb.findTechAct(\"market group for electricity, medium voltage\",\"RER\")\n",
    "\n",
    "enamelling = agb.newActivity(\n",
    "    DB_SYST,\n",
    "    \"Enamelling copper coil\",\n",
    "    unit = \"unit/kg\",\n",
    "    material = resin,\n",
    "    exchanges = { \n",
    "        resin_enam : 0.043,\n",
    "        xylene : 0.023,\n",
    "        elec :0.5\n",
    "    })\n",
    "\n",
    "\n",
    "copper_wire = agb.newActivity(\n",
    "    DB_SYST,\n",
    "    \"Copper coil\",\n",
    "    unit = \"kg\",\n",
    "    material = copper,\n",
    "    exchanges = { \n",
    "        copper_cathode :1,\n",
    "        sheet_rolling : 1,\n",
    "        copper_wire_drawing : 1\n",
    "    })\n",
    "\n",
    "copper_coil = agb.newActivity(\n",
    "    DB_SYST,\n",
    "    \"Copper coil,enamelled\",\n",
    "    unit = \"unit\",\n",
    "    subsystem = stat,\n",
    "    exchanges = { \n",
    "        copper_wire : np.polyval(regression_df.loc['CopperCoils'].iloc[0],d)*0.96, # 4% of the weight is assumed to be the enamelling\n",
    "        enamelling : np.polyval(regression_df.loc['CopperCoils'].iloc[0],d),\n",
    "    })"
   ]
  },
  {
   "cell_type": "code",
   "execution_count": 56,
   "id": "cbe297d4-36b5-4b4a-a615-70978bade88c",
   "metadata": {},
   "outputs": [],
   "source": [
    "iso_resin = agb.findTechAct(\"isophthalic acid based unsaturated polyester resin production\",\"RER\")\n",
    "talc = agb.findTechAct(\"steatite quarry operation\",\"RoW\")\n",
    "glass_fibre = agb.findTechAct(\"glass fibre production\",\"RER\")\n",
    "\n",
    "def resinS_mass(d) : return np.polyval(regression_df.loc['ResinStator'].iloc[0],d)\n",
    "def resinR_mass(d) : return np.polyval(regression_df.loc['ResinRotor'].iloc[0],d)\n",
    "\n",
    "\n",
    "def talc_mass(x) : #Estimation of the mass of talc as a function of the mass of resin\n",
    "    return 0.45*x\n",
    "\n",
    "def glass_fibre_mass(d): #Regression of the area of glass fibre as a function of the mass of resin\n",
    "    mtot = resinR_mass(d)+resinS_mass(d)\n",
    "    return (-3.1+2.03*mtot+(-0.162)*mtot**2)/mtot*sm_glassfibre\n",
    "    \n",
    "resin_stator = agb.newActivity(\n",
    "    DB_SYST,\n",
    "    \"Resin for the stator\",\n",
    "    unit = \"unit\",\n",
    "    subsystem = stat,\n",
    "    material = resin,\n",
    "    exchanges = {\n",
    "        iso_resin : resinS_mass(d),\n",
    "        talc : talc_mass (resinS_mass(d)),\n",
    "        glass_fibre : glass_fibre_mass (d)*resinS_mass(d),\n",
    "    })"
   ]
  },
  {
   "cell_type": "code",
   "execution_count": 57,
   "id": "4b18633b-78ff-4ce4-a03f-7776366fe2d8",
   "metadata": {},
   "outputs": [],
   "source": [
    "stator = agb.newActivity(\n",
    "    DB_SYST,\n",
    "    \"Stator\",\n",
    "    unit = \"unit\",\n",
    "    exchanges = {\n",
    "        copper_coil : 1,\n",
    "        resin_stator : 1,\n",
    "    })"
   ]
  },
  {
   "cell_type": "markdown",
   "id": "3348d347-a2d5-4dad-bec5-a20d70c8217b",
   "metadata": {},
   "source": [
    "### Rotor"
   ]
  },
  {
   "cell_type": "code",
   "execution_count": 58,
   "id": "8a800a33-f14a-4ab9-a21e-c283376b51ab",
   "metadata": {},
   "outputs": [],
   "source": [
    "metal_disk_unzinc = agb.newActivity(\n",
    "    DB_SYST,\n",
    "    \"Metal disks, unzinc \",\n",
    "    unit = \"unit\",\n",
    "    material = steel,\n",
    "    exchanges = {\n",
    "        steel_un : np.polyval(regression_df.loc['MetalDisks'].iloc[0],d),\n",
    "    })\n",
    "\n",
    "metal_disk = agb.newActivity(\n",
    "    DB_SYST,\n",
    "    \"Metal disks,galvanized \",\n",
    "    unit = \"unit\",\n",
    "    subsystem = rot,\n",
    "    exchanges = {\n",
    "        metal_disk_unzinc : 1,\n",
    "        zinc_coating : np.polyval(regression_df.loc['SurfaceDisk'].iloc[0],d),\n",
    "    })"
   ]
  },
  {
   "cell_type": "code",
   "execution_count": 59,
   "id": "8c2178fa-ffb7-4767-9356-c7896ffd5c06",
   "metadata": {},
   "outputs": [],
   "source": [
    "mgn_neo_ecoinvent = agb.findTechAct(\"permanent magnet production, for electric motor\",\"GLO\") #neodym magnet\n",
    "\n",
    "magnet = agb.newActivity(\n",
    "    DB_SYST,\n",
    "    \"Magnet\",\n",
    "    unit = \"unit\",\n",
    "    subsystem = rot,\n",
    "    material = mgn,\n",
    "    exchanges = {\n",
    "        mgn_neo_ecoinvent : np.polyval(regression_df.loc['Magnet'].iloc[0],d)\n",
    "    })"
   ]
  },
  {
   "cell_type": "code",
   "execution_count": 60,
   "id": "3057d138-874d-4fff-bebe-4f361a78f8c1",
   "metadata": {},
   "outputs": [],
   "source": [
    "resin_rotor = agb.newActivity(\n",
    "    DB_SYST,\n",
    "    \"Resin for the rotor\",\n",
    "    unit = \"unit\",\n",
    "    subsystem = rot,\n",
    "    material = resin,\n",
    "    exchanges = {\n",
    "        iso_resin : resinR_mass(d),\n",
    "        talc : talc_mass (resinR_mass(d)),\n",
    "        glass_fibre : glass_fibre_mass (d)*resinR_mass(d),\n",
    "    })"
   ]
  },
  {
   "cell_type": "code",
   "execution_count": 61,
   "id": "01c7e480-77c4-4fe8-8d5f-521f94f5605b",
   "metadata": {},
   "outputs": [],
   "source": [
    "rotor = agb.newActivity(\n",
    "    DB_SYST,\n",
    "    \"Rotor\",\n",
    "    unit = \"unit\",\n",
    "    exchanges = {\n",
    "        metal_disk : 1,\n",
    "        resin_rotor : 1,\n",
    "        magnet : 1,\n",
    "    })"
   ]
  },
  {
   "cell_type": "markdown",
   "id": "bbe57a3a-b54d-4151-b1dc-258b367af93c",
   "metadata": {},
   "source": [
    "### Hub"
   ]
  },
  {
   "cell_type": "markdown",
   "id": "0ae20e2f-0ef5-4cf9-bb66-f58725b477cb",
   "metadata": {},
   "source": [
    "Hub are always collected on old cars. The impact of their fabrication are therefore not taken into account. "
   ]
  },
  {
   "cell_type": "markdown",
   "id": "6ba6ab5c-eb35-4fd8-ad34-d16e9bf9a808",
   "metadata": {},
   "source": [
    "### Tail"
   ]
  },
  {
   "cell_type": "code",
   "execution_count": 62,
   "id": "fc249b35-aa3c-48ea-adfa-378a3e2801a0",
   "metadata": {},
   "outputs": [],
   "source": [
    "vane = agb.newActivity(\n",
    "    DB_SYST,\n",
    "    name=\"Vane\",\n",
    "    unit=\"unit\",\n",
    "    subsystem = tail,\n",
    "    material = wood,\n",
    "    exchanges = {\n",
    "        plywood :np.polyval(regression_df.loc['Vane'].iloc[0],d) ,\n",
    "    })"
   ]
  },
  {
   "cell_type": "code",
   "execution_count": 63,
   "id": "afe706c2-a3da-41df-afda-4d7cb4ddf479",
   "metadata": {},
   "outputs": [],
   "source": [
    "boompipe = agb.newActivity(\n",
    "    DB_SYST,\n",
    "    name=\"BoomPipe\",\n",
    "    unit=\"unit\",\n",
    "    subsystem = tail,\n",
    "    exchanges = {\n",
    "        steel_tube : np.polyval(regression_df.loc['BoomPipe'].iloc[0],d) ,\n",
    "    })"
   ]
  },
  {
   "cell_type": "code",
   "execution_count": 64,
   "id": "475de335-e8a6-4353-bac2-847cfe44f98d",
   "metadata": {},
   "outputs": [],
   "source": [
    "hinge = agb.newActivity(\n",
    "    DB_SYST,\n",
    "    name=\"HingeOuter\",\n",
    "    unit=\"unit\",\n",
    "    subsystem = tail,\n",
    "    exchanges = {\n",
    "        steel_tube : np.polyval(regression_df.loc['HingeOuter'].iloc[0],d)\n",
    "    })"
   ]
  },
  {
   "cell_type": "code",
   "execution_count": 65,
   "id": "35674b15-97dc-4cbb-ab22-c8f3be8a7e0e",
   "metadata": {},
   "outputs": [],
   "source": [
    "othertail = agb.newActivity(\n",
    "    DB_SYST,\n",
    "    name=\"Bracket+Support+TailStop\",\n",
    "    unit=\"unit\",\n",
    "    subsystem = tail,\n",
    "    material = steel,\n",
    "    exchanges = {\n",
    "        steel_low : np.polyval(regression_df.loc['Bracket+Support+TailStop'].iloc[0],d)\n",
    "    })"
   ]
  },
  {
   "cell_type": "code",
   "execution_count": 66,
   "id": "b68545c2-649b-40b8-9550-214cc747fc15",
   "metadata": {},
   "outputs": [],
   "source": [
    "tail = agb.newActivity(\n",
    "    DB_SYST,\n",
    "    name=\"Tail\",\n",
    "    unit=\"unit\",\n",
    "    exchanges = {\n",
    "        vane : 1,\n",
    "        boompipe : 1,\n",
    "        hinge : 1,\n",
    "        othertail : 1\n",
    "    })"
   ]
  },
  {
   "cell_type": "markdown",
   "id": "ac2f8a19-2b08-41a7-a9d6-dd8a64d8c78d",
   "metadata": {},
   "source": [
    "### Nacelle"
   ]
  },
  {
   "cell_type": "code",
   "execution_count": 67,
   "id": "96ea874f-678d-4635-b631-5449e0076564",
   "metadata": {},
   "outputs": [],
   "source": [
    "def yawpipe_mass(d): return np.polyval(regression_df.loc['YawPipe'].iloc[0],d)\n",
    "def yawplate_mass(d): return np.polyval(regression_df.loc['YawPlates'].iloc[0],d)\n",
    "\n",
    "yawbearing = agb.newActivity(\n",
    "    DB_SYST,\n",
    "    name=\"Yaw Bearing\",\n",
    "    unit=\"unit\",\n",
    "    subsystem = nac,\n",
    "    material = steel,\n",
    "    exchanges = {\n",
    "        steel_un : yawpipe_mass(d) + yawplate_mass(d),\n",
    "        drawing_of_pipe : yawpipe_mass(d),\n",
    "    })"
   ]
  },
  {
   "cell_type": "code",
   "execution_count": 68,
   "id": "4d04b884-4fee-44a8-b78b-674d883009ac",
   "metadata": {},
   "outputs": [],
   "source": [
    "frame = agb.newActivity(\n",
    "    DB_SYST,\n",
    "    name=\"Frame\",\n",
    "    unit=\"unit\",\n",
    "    subsystem = nac,\n",
    "    material = steel,\n",
    "    exchanges = {\n",
    "        steel_un : np.polyval(regression_df.loc['Frame'].iloc[0],d),\n",
    "    })"
   ]
  },
  {
   "cell_type": "code",
   "execution_count": 69,
   "id": "fe8ce555-10fd-4a12-a6f4-61f4bb66758f",
   "metadata": {},
   "outputs": [],
   "source": [
    "nacelle = agb.newActivity(\n",
    "    DB_SYST,\n",
    "    name=\"Nacelle\",\n",
    "    unit=\"unit\",\n",
    "    exchanges = {\n",
    "        yawbearing : 1,\n",
    "        frame : 1\n",
    "    })"
   ]
  },
  {
   "cell_type": "markdown",
   "id": "1c589ea3-9f5c-4f77-b88f-1d0706d8cc06",
   "metadata": {},
   "source": [
    "### Hardware"
   ]
  },
  {
   "cell_type": "code",
   "execution_count": 70,
   "id": "11206353-01ec-4c57-b6ef-07888170b3fe",
   "metadata": {},
   "outputs": [],
   "source": [
    "inox = agb.findTechAct(\"steel production, chromium steel 18/8, hot rolled\",'RER')\n",
    "av_work_inox = agb.findTechAct(\"metal working, average for chromium steel product manufacturing\",\"RER\")\n",
    "\n",
    "hardware_unzinc_wg = agb.newActivity(\n",
    "    DB_SYST,\n",
    "    name=\"Hardware for wind generator, ungalvanized\",\n",
    "    unit=\"unit\",\n",
    "    material = steel,\n",
    "    exchanges = {\n",
    "        steel_low : np.polyval(regression_df.loc['Hardware zinc'].iloc[0],d),\n",
    "        av_work_steel : np.polyval(regression_df.loc['Hardware zinc'].iloc[0],d),\n",
    "    })\n",
    "\n",
    "hardware_zinc_wg = agb.newActivity(\n",
    "    DB_SYST,\n",
    "    name=\"Hardware for wind generator, galvanized\",\n",
    "    unit=\"unit\",\n",
    "    subsystem=hard,\n",
    "    exchanges = {\n",
    "        hardware_unzinc_wg : 1,\n",
    "        zinc_coating : np.polyval(regression_df.loc['Hardware zinc'].iloc[0],d)*60/1000\n",
    "    })\n",
    "\n",
    "\n",
    "hardware_inox_wg = agb.newActivity(\n",
    "    DB_SYST,\n",
    "    name=\"Hardware for wind generator, inox\",\n",
    "    unit=\"unit\",\n",
    "    material = ix,\n",
    "    subsystem = hard,\n",
    "    exchanges = {\n",
    "        inox: np.polyval(regression_df.loc['Hardware inox'].iloc[0],d) ,\n",
    "        av_work_inox : np.polyval(regression_df.loc['Hardware inox'].iloc[0],d)\n",
    "    })"
   ]
  },
  {
   "cell_type": "markdown",
   "id": "0a5cd2f0-75ec-44c9-9eb6-8f9af283cac8",
   "metadata": {},
   "source": [
    "### Other elements"
   ]
  },
  {
   "cell_type": "code",
   "execution_count": 71,
   "id": "1d91b845-3382-41b2-95a9-9011130a9e84",
   "metadata": {},
   "outputs": [
    {
     "name": "stderr",
     "output_type": "stream",
     "text": [
      "[WARNING] Activity 'Mould for the stator' was already in 'bdd_syst'. Overwriting it\n"
     ]
    }
   ],
   "source": [
    "mould_stat= agb.newActivity(\n",
    "    DB_SYST,\n",
    "    name=\"Mould for the stator\",\n",
    "    unit=\"unit\",\n",
    "    material = wood,\n",
    "    subsystem = oth,\n",
    "    exchanges = {\n",
    "        plywood: np.polyval(regression_df.loc['MouldStator'].iloc[0],d) ,\n",
    "    })\n",
    "\n",
    "mould_rot= agb.newActivity(\n",
    "    DB_SYST,\n",
    "    name=\"Mould for the stator\",\n",
    "    unit=\"unit\",\n",
    "    material = wood,\n",
    "    subsystem = oth,\n",
    "    exchanges = {\n",
    "        plywood: np.polyval(regression_df.loc['MouldRotor'].iloc[0],d) ,\n",
    "    })\n",
    "\n",
    "moulds = agb.newActivity(\n",
    "    DB_SYST,\n",
    "    name=\"Moulds\",\n",
    "    unit=\"unit\",\n",
    "    exchanges = {\n",
    "        mould_rot: 1/5 ,\n",
    "        mould_stat : 1/5, #each mould can be use for at least 5 windturbines\n",
    "    })"
   ]
  },
  {
   "cell_type": "markdown",
   "id": "0e11cb14-6021-4065-871b-3936f2afe57f",
   "metadata": {},
   "source": [
    "### Complete wind generator"
   ]
  },
  {
   "cell_type": "code",
   "execution_count": 72,
   "id": "aae4a5fb-2662-45ac-ab87-8a42af96b1f4",
   "metadata": {},
   "outputs": [],
   "source": [
    "wind_generator = agb.newActivity(\n",
    "    DB_SYST,\n",
    "    name=\"Wind generator\",\n",
    "    unit=\"unit\",\n",
    "    system = wg,\n",
    "    exchanges = {\n",
    "        propeller : 1,\n",
    "        rotor : 1,\n",
    "        stator : 1,\n",
    "        tail : 1,\n",
    "        nacelle : 1,\n",
    "        hardware_inox_wg : 1,\n",
    "        hardware_zinc_wg : 1,\n",
    "        moulds : 1,\n",
    "        \n",
    "    })"
   ]
  },
  {
   "cell_type": "markdown",
   "id": "43274269-c504-4a93-890a-5e06440b1fb1",
   "metadata": {},
   "source": [
    "## Complete system"
   ]
  },
  {
   "cell_type": "code",
   "execution_count": 73,
   "id": "f2a27dfc-5d66-4ed8-bd21-121bea523f05",
   "metadata": {},
   "outputs": [],
   "source": [
    "'''\n",
    "elec = agb.findActivity(\n",
    "    name = 'Electronics',\n",
    "    db_name='bdd_elec')\n",
    "'''\n",
    "\n",
    "complete_system = agb.newActivity(\n",
    "    db_name=DB_SYST,\n",
    "    name='Complete system',\n",
    "    unit=\"unit\",\n",
    "    exchanges = {\n",
    "        wind_generator : 1,\n",
    "        structure : 1\n",
    "    })\n",
    "\n",
    "system_recupmast = agb.newActivity(\n",
    "    db_name=DB_SYST,\n",
    "    name='Complete system with a 2nd use mast',\n",
    "    unit=\"unit\",\n",
    "    exchanges = {\n",
    "        wind_generator : 1,\n",
    "        fundation_total : 1,\n",
    "        rigging_total : 1,\n",
    "        cable_48V : 1\n",
    "    })"
   ]
  },
  {
   "cell_type": "markdown",
   "id": "8ddb031f-1620-4272-926f-1a867f3a386a",
   "metadata": {},
   "source": [
    "# LCA Results"
   ]
  },
  {
   "cell_type": "markdown",
   "id": "30c1fae7-ff59-4386-904b-6bffa91819f5",
   "metadata": {},
   "source": [
    "## Inventory"
   ]
  },
  {
   "cell_type": "code",
   "execution_count": 74,
   "id": "11623f63-75b5-47db-b02e-e5ea225820f4",
   "metadata": {},
   "outputs": [
    {
     "name": "stderr",
     "output_type": "stream",
     "text": [
      "[INFO] Db changed recently, clearing cache expr\n",
      "[INFO] Required param 'steel_mix' was missing, replacing by default value : Converter\n"
     ]
    },
    {
     "data": {
      "text/html": [
       "<div>\n",
       "<style scoped>\n",
       "    .dataframe tbody tr th:only-of-type {\n",
       "        vertical-align: middle;\n",
       "    }\n",
       "\n",
       "    .dataframe tbody tr th {\n",
       "        vertical-align: top;\n",
       "    }\n",
       "\n",
       "    .dataframe thead th {\n",
       "        text-align: right;\n",
       "    }\n",
       "</style>\n",
       "<table border=\"1\" class=\"dataframe\">\n",
       "  <thead>\n",
       "    <tr style=\"text-align: right;\">\n",
       "      <th></th>\n",
       "      <th>database</th>\n",
       "      <th>name</th>\n",
       "      <th>location</th>\n",
       "      <th>unit</th>\n",
       "      <th>value</th>\n",
       "    </tr>\n",
       "  </thead>\n",
       "  <tbody>\n",
       "    <tr>\n",
       "      <th>0</th>\n",
       "      <td>ecoinvent-3.8-cutoff</td>\n",
       "      <td>concrete, all types to generic market for conc...</td>\n",
       "      <td>RoW</td>\n",
       "      <td>cubic meter</td>\n",
       "      <td>2.27679</td>\n",
       "    </tr>\n",
       "    <tr>\n",
       "      <th>1</th>\n",
       "      <td>ecoinvent-3.8-cutoff</td>\n",
       "      <td>drawing of pipe, steel</td>\n",
       "      <td>RER</td>\n",
       "      <td>kilogram</td>\n",
       "      <td>210.506</td>\n",
       "    </tr>\n",
       "    <tr>\n",
       "      <th>2</th>\n",
       "      <td>ecoinvent-3.8-cutoff</td>\n",
       "      <td>extrusion, plastic pipes</td>\n",
       "      <td>RER</td>\n",
       "      <td>kilogram</td>\n",
       "      <td>0.213264</td>\n",
       "    </tr>\n",
       "    <tr>\n",
       "      <th>3</th>\n",
       "      <td>ecoinvent-3.8-cutoff</td>\n",
       "      <td>glass fibre production</td>\n",
       "      <td>RER</td>\n",
       "      <td>kilogram</td>\n",
       "      <td>0.196987</td>\n",
       "    </tr>\n",
       "    <tr>\n",
       "      <th>4</th>\n",
       "      <td>ecoinvent-3.8-cutoff</td>\n",
       "      <td>isophthalic acid based unsaturated polyester r...</td>\n",
       "      <td>RER</td>\n",
       "      <td>kilogram</td>\n",
       "      <td>4.60748</td>\n",
       "    </tr>\n",
       "    <tr>\n",
       "      <th>5</th>\n",
       "      <td>ecoinvent-3.8-cutoff</td>\n",
       "      <td>market for copper, cathode</td>\n",
       "      <td>GLO</td>\n",
       "      <td>kilogram</td>\n",
       "      <td>5.62784</td>\n",
       "    </tr>\n",
       "    <tr>\n",
       "      <th>6</th>\n",
       "      <td>ecoinvent-3.8-cutoff</td>\n",
       "      <td>market for tap water</td>\n",
       "      <td>Europe without Switzerland</td>\n",
       "      <td>kilogram</td>\n",
       "      <td>26.136</td>\n",
       "    </tr>\n",
       "    <tr>\n",
       "      <th>7</th>\n",
       "      <td>ecoinvent-3.8-cutoff</td>\n",
       "      <td>market group for electricity, medium voltage</td>\n",
       "      <td>RER</td>\n",
       "      <td>kilowatt hour</td>\n",
       "      <td>1.92317</td>\n",
       "    </tr>\n",
       "    <tr>\n",
       "      <th>8</th>\n",
       "      <td>ecoinvent-3.8-cutoff</td>\n",
       "      <td>metal working, average for chromium steel prod...</td>\n",
       "      <td>RER</td>\n",
       "      <td>kilogram</td>\n",
       "      <td>3.13323</td>\n",
       "    </tr>\n",
       "    <tr>\n",
       "      <th>9</th>\n",
       "      <td>ecoinvent-3.8-cutoff</td>\n",
       "      <td>metal working, average for steel product manuf...</td>\n",
       "      <td>RER</td>\n",
       "      <td>kilogram</td>\n",
       "      <td>22.517</td>\n",
       "    </tr>\n",
       "    <tr>\n",
       "      <th>10</th>\n",
       "      <td>ecoinvent-3.8-cutoff</td>\n",
       "      <td>permanent magnet production, for electric motor</td>\n",
       "      <td>GLO</td>\n",
       "      <td>kilogram</td>\n",
       "      <td>2.82465</td>\n",
       "    </tr>\n",
       "    <tr>\n",
       "      <th>11</th>\n",
       "      <td>ecoinvent-3.8-cutoff</td>\n",
       "      <td>planing, beam, softwood, u=20%</td>\n",
       "      <td>Europe without Switzerland</td>\n",
       "      <td>kilogram</td>\n",
       "      <td>38.8489</td>\n",
       "    </tr>\n",
       "    <tr>\n",
       "      <th>12</th>\n",
       "      <td>ecoinvent-3.8-cutoff</td>\n",
       "      <td>plywood production</td>\n",
       "      <td>RER</td>\n",
       "      <td>cubic meter</td>\n",
       "      <td>0.0111058</td>\n",
       "    </tr>\n",
       "    <tr>\n",
       "      <th>13</th>\n",
       "      <td>ecoinvent-3.8-cutoff</td>\n",
       "      <td>polyester resin production, unsaturated</td>\n",
       "      <td>RER</td>\n",
       "      <td>kilogram</td>\n",
       "      <td>0.165392</td>\n",
       "    </tr>\n",
       "    <tr>\n",
       "      <th>14</th>\n",
       "      <td>ecoinvent-3.8-cutoff</td>\n",
       "      <td>polyethylene production, high density, granulate</td>\n",
       "      <td>RER</td>\n",
       "      <td>kilogram</td>\n",
       "      <td>0.213264</td>\n",
       "    </tr>\n",
       "    <tr>\n",
       "      <th>15</th>\n",
       "      <td>ecoinvent-3.8-cutoff</td>\n",
       "      <td>reinforcing steel production</td>\n",
       "      <td>Europe without Austria</td>\n",
       "      <td>kilogram</td>\n",
       "      <td>48.413</td>\n",
       "    </tr>\n",
       "    <tr>\n",
       "      <th>16</th>\n",
       "      <td>ecoinvent-3.8-cutoff</td>\n",
       "      <td>rolling mill production</td>\n",
       "      <td>RER</td>\n",
       "      <td>unit</td>\n",
       "      <td>2.1234e-11</td>\n",
       "    </tr>\n",
       "    <tr>\n",
       "      <th>17</th>\n",
       "      <td>ecoinvent-3.8-cutoff</td>\n",
       "      <td>sheet rolling, copper</td>\n",
       "      <td>RER</td>\n",
       "      <td>kilogram</td>\n",
       "      <td>3.69248</td>\n",
       "    </tr>\n",
       "    <tr>\n",
       "      <th>18</th>\n",
       "      <td>ecoinvent-3.8-cutoff</td>\n",
       "      <td>steatite quarry operation</td>\n",
       "      <td>RoW</td>\n",
       "      <td>kilogram</td>\n",
       "      <td>2.07336</td>\n",
       "    </tr>\n",
       "    <tr>\n",
       "      <th>19</th>\n",
       "      <td>ecoinvent-3.8-cutoff</td>\n",
       "      <td>steel production, chromium steel 18/8, hot rolled</td>\n",
       "      <td>RER</td>\n",
       "      <td>kilogram</td>\n",
       "      <td>3.13323</td>\n",
       "    </tr>\n",
       "    <tr>\n",
       "      <th>20</th>\n",
       "      <td>ecoinvent-3.8-cutoff</td>\n",
       "      <td>steel production, converter, low-alloyed</td>\n",
       "      <td>RER</td>\n",
       "      <td>kilogram</td>\n",
       "      <td>37.1323</td>\n",
       "    </tr>\n",
       "    <tr>\n",
       "      <th>21</th>\n",
       "      <td>ecoinvent-3.8-cutoff</td>\n",
       "      <td>steel production, converter, unalloyed</td>\n",
       "      <td>RER</td>\n",
       "      <td>kilogram</td>\n",
       "      <td>274.895</td>\n",
       "    </tr>\n",
       "    <tr>\n",
       "      <th>22</th>\n",
       "      <td>ecoinvent-3.8-cutoff</td>\n",
       "      <td>steel production, electric, low-alloyed</td>\n",
       "      <td>Europe without Switzerland and Austria</td>\n",
       "      <td>kilogram</td>\n",
       "      <td>0</td>\n",
       "    </tr>\n",
       "    <tr>\n",
       "      <th>23</th>\n",
       "      <td>ecoinvent-3.8-cutoff</td>\n",
       "      <td>welding, arc, steel</td>\n",
       "      <td>RER</td>\n",
       "      <td>meter</td>\n",
       "      <td>5</td>\n",
       "    </tr>\n",
       "    <tr>\n",
       "      <th>24</th>\n",
       "      <td>ecoinvent-3.8-cutoff</td>\n",
       "      <td>wire drawing, copper</td>\n",
       "      <td>RER</td>\n",
       "      <td>kilogram</td>\n",
       "      <td>5.62784</td>\n",
       "    </tr>\n",
       "    <tr>\n",
       "      <th>25</th>\n",
       "      <td>ecoinvent-3.8-cutoff</td>\n",
       "      <td>wire drawing, steel</td>\n",
       "      <td>RER</td>\n",
       "      <td>kilogram</td>\n",
       "      <td>19.8383</td>\n",
       "    </tr>\n",
       "    <tr>\n",
       "      <th>26</th>\n",
       "      <td>ecoinvent-3.8-cutoff</td>\n",
       "      <td>xylene production</td>\n",
       "      <td>RER</td>\n",
       "      <td>kilogram</td>\n",
       "      <td>0.0884657</td>\n",
       "    </tr>\n",
       "    <tr>\n",
       "      <th>27</th>\n",
       "      <td>ecoinvent-3.8-cutoff</td>\n",
       "      <td>zinc coating, pieces</td>\n",
       "      <td>RER</td>\n",
       "      <td>square meter</td>\n",
       "      <td>2.59052</td>\n",
       "    </tr>\n",
       "  </tbody>\n",
       "</table>\n",
       "</div>"
      ],
      "text/plain": [
       "                database                                               name  \\\n",
       "0   ecoinvent-3.8-cutoff  concrete, all types to generic market for conc...   \n",
       "1   ecoinvent-3.8-cutoff                             drawing of pipe, steel   \n",
       "2   ecoinvent-3.8-cutoff                           extrusion, plastic pipes   \n",
       "3   ecoinvent-3.8-cutoff                             glass fibre production   \n",
       "4   ecoinvent-3.8-cutoff  isophthalic acid based unsaturated polyester r...   \n",
       "5   ecoinvent-3.8-cutoff                         market for copper, cathode   \n",
       "6   ecoinvent-3.8-cutoff                               market for tap water   \n",
       "7   ecoinvent-3.8-cutoff       market group for electricity, medium voltage   \n",
       "8   ecoinvent-3.8-cutoff  metal working, average for chromium steel prod...   \n",
       "9   ecoinvent-3.8-cutoff  metal working, average for steel product manuf...   \n",
       "10  ecoinvent-3.8-cutoff    permanent magnet production, for electric motor   \n",
       "11  ecoinvent-3.8-cutoff                     planing, beam, softwood, u=20%   \n",
       "12  ecoinvent-3.8-cutoff                                 plywood production   \n",
       "13  ecoinvent-3.8-cutoff            polyester resin production, unsaturated   \n",
       "14  ecoinvent-3.8-cutoff   polyethylene production, high density, granulate   \n",
       "15  ecoinvent-3.8-cutoff                       reinforcing steel production   \n",
       "16  ecoinvent-3.8-cutoff                            rolling mill production   \n",
       "17  ecoinvent-3.8-cutoff                              sheet rolling, copper   \n",
       "18  ecoinvent-3.8-cutoff                          steatite quarry operation   \n",
       "19  ecoinvent-3.8-cutoff  steel production, chromium steel 18/8, hot rolled   \n",
       "20  ecoinvent-3.8-cutoff           steel production, converter, low-alloyed   \n",
       "21  ecoinvent-3.8-cutoff             steel production, converter, unalloyed   \n",
       "22  ecoinvent-3.8-cutoff            steel production, electric, low-alloyed   \n",
       "23  ecoinvent-3.8-cutoff                                welding, arc, steel   \n",
       "24  ecoinvent-3.8-cutoff                               wire drawing, copper   \n",
       "25  ecoinvent-3.8-cutoff                                wire drawing, steel   \n",
       "26  ecoinvent-3.8-cutoff                                  xylene production   \n",
       "27  ecoinvent-3.8-cutoff                               zinc coating, pieces   \n",
       "\n",
       "                                  location           unit      value  \n",
       "0                                      RoW    cubic meter    2.27679  \n",
       "1                                      RER       kilogram    210.506  \n",
       "2                                      RER       kilogram   0.213264  \n",
       "3                                      RER       kilogram   0.196987  \n",
       "4                                      RER       kilogram    4.60748  \n",
       "5                                      GLO       kilogram    5.62784  \n",
       "6               Europe without Switzerland       kilogram     26.136  \n",
       "7                                      RER  kilowatt hour    1.92317  \n",
       "8                                      RER       kilogram    3.13323  \n",
       "9                                      RER       kilogram     22.517  \n",
       "10                                     GLO       kilogram    2.82465  \n",
       "11              Europe without Switzerland       kilogram    38.8489  \n",
       "12                                     RER    cubic meter  0.0111058  \n",
       "13                                     RER       kilogram   0.165392  \n",
       "14                                     RER       kilogram   0.213264  \n",
       "15                  Europe without Austria       kilogram     48.413  \n",
       "16                                     RER           unit 2.1234e-11  \n",
       "17                                     RER       kilogram    3.69248  \n",
       "18                                     RoW       kilogram    2.07336  \n",
       "19                                     RER       kilogram    3.13323  \n",
       "20                                     RER       kilogram    37.1323  \n",
       "21                                     RER       kilogram    274.895  \n",
       "22  Europe without Switzerland and Austria       kilogram          0  \n",
       "23                                     RER          meter          5  \n",
       "24                                     RER       kilogram    5.62784  \n",
       "25                                     RER       kilogram    19.8383  \n",
       "26                                     RER       kilogram  0.0884657  \n",
       "27                                     RER   square meter    2.59052  "
      ]
     },
     "execution_count": 74,
     "metadata": {},
     "output_type": "execute_result"
    }
   ],
   "source": [
    "agb.compute_inventory(complete_system,h=18,d=3000)"
   ]
  },
  {
   "cell_type": "markdown",
   "id": "1d1fa368-72ea-4828-81f1-fe371b57325b",
   "metadata": {},
   "source": [
    "## Absolute impacts"
   ]
  },
  {
   "cell_type": "code",
   "execution_count": null,
   "id": "f5c240f9-408e-4f7b-9a6a-cbe07b2abaaf",
   "metadata": {
    "scrolled": true
   },
   "outputs": [],
   "source": [
    "agb.compute_impacts(complete_system, methods=[methods_EF[11],methods_EF[1],methods_EF[3],methods_EF[4],methods_EF[2]],h=18,d=2400,steel_mix = \"Converter\",axis=\"material\")"
   ]
  },
  {
   "cell_type": "code",
   "execution_count": null,
   "id": "abf98672-1025-4995-9c01-1fba34576567",
   "metadata": {
    "scrolled": true
   },
   "outputs": [],
   "source": [
    "agb.compute_impacts(structure,methods=[methods_EF[11],methods_EF[2],methods_EF[1]],h=18,d=2400,axis='material')"
   ]
  },
  {
   "cell_type": "code",
   "execution_count": null,
   "id": "39765b9d-5886-4fa5-a1c1-58f2a7d15dd0",
   "metadata": {},
   "outputs": [],
   "source": [
    "agb.oat_dashboard(complete_system,[methods_EF[11],methods_EF[2],methods_EF[1]])"
   ]
  },
  {
   "cell_type": "code",
   "execution_count": null,
   "id": "665170d7-b445-4711-b180-2d0d63ec58ff",
   "metadata": {},
   "outputs": [],
   "source": [
    "abs_impact = agb.compute_impacts(complete_system,axis = 'material',methods=[methods_EF[11],methods_EF[2],methods_EF[1]],h=24,d=4200).drop(index=['*sum*'])\n",
    "abs_impact.columns = ['ADP [kg Sb-Eq]', 'Ecotoxicity [CTUe]', 'GWP100 [kg CO2-Eq]']\n",
    "\n",
    "# Normalize each column (impact) so it sums to 100%\n",
    "abs_impact_normalized = abs_impact.div(abs_impact.sum(axis=0), axis=1) * 100\n",
    "\n",
    "# Transpose so that impacts are on the x-axis\n",
    "abs_impact_normalized.T.plot(kind='bar', stacked=True, figsize=(10, 6))\n",
    "\n",
    "# Style the plot\n",
    "plt.title('Normalized Material Contribution to Each Environmental Impact')\n",
    "plt.ylabel('Contribution (%)')\n",
    "plt.xticks(rotation=45, ha='right')\n",
    "plt.legend(title='Material', bbox_to_anchor=(1.05, 1), loc='upper left')\n",
    "plt.tight_layout()\n",
    "plt.show()"
   ]
  },
  {
   "cell_type": "code",
   "execution_count": null,
   "id": "4ea243b9-bc8a-46a4-991f-ff3e0f2b8c71",
   "metadata": {},
   "outputs": [],
   "source": [
    "# Assign a consistent color per material\n",
    "materials = abs_impact.index\n",
    "\n",
    "# Use consistent color for each impact\n",
    "cmap = colormaps.get_cmap('tab20')\n",
    "material_colors = {mat: cmap(i) for i, mat in enumerate(materials)}\n",
    "\n",
    "# Create subplots\n",
    "fig, axes = plt.subplots(1, 3, figsize=(20, 8), sharey=False)\n",
    "\n",
    "# Plot each impact with its own sorting\n",
    "for ax, impact in zip(axes, abs_impact.columns):\n",
    "    # Sort materials by current impact\n",
    "    sorted_df = abs_impact.sort_values(by=impact, ascending=False)\n",
    "\n",
    "    # Plot with consistent colors\n",
    "    ax.barh(sorted_df.index, sorted_df[impact],\n",
    "            color=[material_colors[mat] for mat in sorted_df.index])\n",
    "    \n",
    "    ax.set_xlabel(impact, fontsize=14)\n",
    "    ax.tick_params(axis='both', labelsize=12)\n",
    "    ax.invert_yaxis()\n",
    "\n",
    "# Adjust layout\n",
    "plt.tight_layout()\n",
    "plt.subplots_adjust(right=0.85) \n"
   ]
  },
  {
   "cell_type": "markdown",
   "id": "b7bdeaf8-ceac-4a8e-9cc6-8812b5aa4072",
   "metadata": {},
   "source": [
    "## Impacts per functional unit"
   ]
  },
  {
   "cell_type": "code",
   "execution_count": null,
   "id": "97edd4a7-c563-4f68-93f9-b9004039ac25",
   "metadata": {},
   "outputs": [],
   "source": [
    "agb.compute_impacts(complete_system,axis = 'material',steel_mix = 'Converter',methods=[methods_EF[11],methods_EF[2],methods_EF[1]], h=24,d=4200,functional_unit=FU(d,h))"
   ]
  },
  {
   "cell_type": "code",
   "execution_count": null,
   "id": "9e14a1f4-53e8-4a2a-91a6-402d06a0f5da",
   "metadata": {},
   "outputs": [],
   "source": [
    "agb.compute_impacts(complete_system,methods=[methods_EF[11],methods_EF[2],methods_EF[1]],h=24,d=4200,steel_mix = ['Converter','Converter_elec'],functional_unit=FU(d,h))"
   ]
  },
  {
   "cell_type": "code",
   "execution_count": null,
   "id": "988bb8ad-7f39-47bb-9851-c936006cf478",
   "metadata": {},
   "outputs": [],
   "source": [
    "agb.compute_impacts([complete_system,system_recupmast],methods=[methods_EF[11],methods_EF[2],methods_EF[1]],h=24,d=4200,functional_unit=FU(d,h))"
   ]
  },
  {
   "cell_type": "code",
   "execution_count": null,
   "id": "6e8c987b-a206-4555-8ea2-5df8ac59ea55",
   "metadata": {},
   "outputs": [],
   "source": [
    "agb.oat_dashboard(complete_system, [methods_EF[11],methods_EF[2],methods_EF[1]],functional_unit=FU(d,h))"
   ]
  },
  {
   "cell_type": "code",
   "execution_count": null,
   "id": "d2a21fb9-7cd5-46b5-bea4-07726ef2f344",
   "metadata": {
    "scrolled": true
   },
   "outputs": [],
   "source": [
    "agb.incer_stochastic_dashboard(complete_system, [methods_EF[11],methods_EF[2],methods_EF[1]])"
   ]
  },
  {
   "cell_type": "markdown",
   "id": "e82075b4-3b0c-44d2-b8a8-41be238e3fd1",
   "metadata": {},
   "source": [
    "## Single score"
   ]
  },
  {
   "cell_type": "code",
   "execution_count": null,
   "id": "9edad8a2-c5f5-4b0d-a6ef-d8ecc76fcc86",
   "metadata": {},
   "outputs": [],
   "source": [
    "# EF3.0 normalisation factors \n",
    "EF_NF={\n",
    "    methods_EF[0][1]:5.56E+01,\n",
    "    methods_EF[1][1]:8.10E+03,\n",
    "    methods_EF[2][1]:4.27E+04,\n",
    "    methods_EF[3][1]:6.50E+04,\n",
    "    methods_EF[4][1]:1.61E+00,\n",
    "    methods_EF[5][1]:1.95E+01,\n",
    "    methods_EF[6][1]:1.77E+02,\n",
    "    methods_EF[7][1]:1.69E-05,\n",
    "    methods_EF[8][1]:2.30E-04,\n",
    "    methods_EF[9][1]:4.22E+03,\n",
    "    methods_EF[10][1]:8.19E+05,\n",
    "    methods_EF[11][1]:6.36E-02,\n",
    "    methods_EF[12][1]:5.36E-02,\n",
    "    methods_EF[13][1]:5.95E-04,\n",
    "    methods_EF[14][1]:4.06E+01,\n",
    "    methods_EF[15][1]:1.15E+04,\n",
    "        }\n",
    "# EF3.0 Weighing factors \n",
    "EF_WF={\n",
    "    methods_EF[0][1]:6.20E-02,\n",
    "    methods_EF[1][1]:21.06E-02,\n",
    "    methods_EF[2][1]:1.92E-02,\n",
    "    methods_EF[3][1]:8.32E-02,\n",
    "    methods_EF[4][1]:2.80E-02,\n",
    "    methods_EF[5][1]:2.96E-02,\n",
    "    methods_EF[6][1]:3.71E-02,\n",
    "    methods_EF[7][1]:2.13E-02,\n",
    "    methods_EF[8][1]:1.84E-02,\n",
    "    methods_EF[9][1]:5.01E-02,\n",
    "    methods_EF[10][1]:7.94E-02,\n",
    "    methods_EF[11][1]:7.55E-02,\n",
    "    methods_EF[12][1]:6.31E-02,\n",
    "    methods_EF[13][1]:8.96E-02,\n",
    "    methods_EF[14][1]:4.78E-02,\n",
    "    methods_EF[15][1]:8.51E-02,\n",
    "        }\n",
    "\n",
    "NF = np.array([EF_NF[method[1]] for method in methods_EF])\n",
    "WF = np.array([EF_WF[method[1]] for method in methods_EF])\n"
   ]
  },
  {
   "cell_type": "code",
   "execution_count": null,
   "id": "5cc8aa75-4f23-4b24-8e57-4a711619c35b",
   "metadata": {},
   "outputs": [],
   "source": [
    "def lca_single_score(df, NF, WF):\n",
    "    \"\"\"\n",
    "    Parameters:\n",
    "    - df: Pandas DataFrame where rows are materials and columns are impact categories.\n",
    "          Assumes the last row (optional) is \"*sum*\", otherwise all rows are considered.\n",
    "    - NF: NumPy array of normalization factors (must match df columns)\n",
    "    - WF: NumPy array of weighting factors (same length as NF)\n",
    "\n",
    "    Returns:\n",
    "    - single_score: float, final normalized and weighted impact score\n",
    "    - normalized: normalized impact values (NumPy array)\n",
    "    - weighted: weighted impact values (NumPy array)\n",
    "    \"\"\"\n",
    "    df_clean = df.loc[~df.index.str.startswith(('*sum*'))]\n",
    "\n",
    "\n",
    "    # Normalize and weight\n",
    "    normalized_df = df_clean / NF\n",
    "    weighted_df = normalized_df * WF\n",
    "    single_score = weighted_df.values.sum()\n",
    "    return normalized_df, weighted_df,single_score"
   ]
  },
  {
   "cell_type": "markdown",
   "id": "a0a16971-6062-4074-802d-9f52a2f09b48",
   "metadata": {},
   "source": [
    "### Most important impacts"
   ]
  },
  {
   "cell_type": "code",
   "execution_count": null,
   "id": "8a356f1b-9489-4212-9c0b-c038fc7861f0",
   "metadata": {},
   "outputs": [],
   "source": [
    "def most_important_impacts (lca_df) :\n",
    "    impact = lca_df.columns\n",
    "    score = lca_single_score((lca_df), NF, WF)\n",
    "    \n",
    "    impact_df = pd.DataFrame({\"Impact\":impact,\"Values\": score[1].sum(axis=0).values})\n",
    "    impact_df = impact_df.sort_values(by=\"Values\", ascending=False)\n",
    "    impact_df.reset_index(drop=True, inplace=True)\n",
    "    \n",
    "    impact_df[\"Cumulative Sum\"] = impact_df[\"Values\"].cumsum()\n",
    "    impact_df[\"Cumulative %\"] = impact_df[\"Cumulative Sum\"] / score[2]\n",
    "    impact_df[\"% of the single score\"] = impact_df['Values']/score[2]*100\n",
    "    \n",
    "    # Filter to rows that contribute to <= 90%\n",
    "    cutoff_index = impact_df[impact_df[\"Cumulative %\"] > 0.90].index.min()\n",
    "    impact90_df = impact_df.loc[:cutoff_index]\n",
    "    return impact90_df\n",
    "impact90_df = most_important_impacts(agb.compute_impacts(complete_system,axis = 'material',methods=methods_EF,h=24,d=4200, steel_mix='Converter'))\n",
    "impact90 = impact90_df[\"Impact\"]\n",
    "impact3 = impact90[:3]\n",
    "impact90_df"
   ]
  },
  {
   "cell_type": "markdown",
   "id": "787cfb3f-f06f-47e1-bb7a-2a7708343599",
   "metadata": {},
   "source": [
    "### Contribution to single score"
   ]
  },
  {
   "cell_type": "code",
   "execution_count": null,
   "id": "80bcbf65-60dd-40bb-b037-2577ca26c6f6",
   "metadata": {
    "scrolled": true
   },
   "outputs": [],
   "source": [
    "weighted_df = lca_single_score(agb.compute_impacts(complete_system,methods_EF,axis='material',d=4200,h=24), NF, WF)[1]\n",
    "weighted_df = weighted_df.loc[weighted_df.sum(axis=1).sort_values(ascending=True).index]  \n",
    "\n",
    "fig, ax = plt.subplots(figsize=(12, 8))\n",
    "\n",
    "\n",
    "impact_colors = {impact: cmap(i) for i, impact in enumerate(weighted_df.columns)}\n",
    "\n",
    "# Plot stacked bars\n",
    "bottom = pd.Series([0] * len(weighted_df), index=weighted_df.index)\n",
    "for impact in weighted_df.columns:\n",
    "    ax.barh(weighted_df.index, weighted_df[impact],\n",
    "            left=bottom,\n",
    "            label=impact,\n",
    "            color=impact_colors[impact])\n",
    "    bottom += weighted_df[impact]\n",
    "\n",
    "# Style\n",
    "ax.set_title(\"Single Score Contribution per Material (Stacked by Impact)\", fontsize=16)\n",
    "ax.set_xlabel(\"Single Score\", fontsize=14)\n",
    "ax.tick_params(axis='both', labelsize=12)\n",
    "plt.legend(title='Impact', bbox_to_anchor=(1.05, 1), loc='upper left', fontsize=12, title_fontsize=13)\n",
    "plt.tight_layout()\n",
    "plt.subplots_adjust(right=0.8)\n",
    "plt.show()\n"
   ]
  },
  {
   "cell_type": "markdown",
   "id": "c1ebc63c-cf36-47e9-afd4-fa0b114cbcd7",
   "metadata": {},
   "source": [
    "# Optimization"
   ]
  },
  {
   "cell_type": "markdown",
   "id": "2af82572-4866-41ab-a08c-86ccb948fa2d",
   "metadata": {},
   "source": [
    "## Minimization of the single score"
   ]
  },
  {
   "cell_type": "code",
   "execution_count": null,
   "id": "2650d791-5bb0-459a-a31c-e2a6f82b66b0",
   "metadata": {},
   "outputs": [],
   "source": [
    "from noload.analyse.simulation import computeOnce\n",
    "\n",
    "\n",
    "def impact_1score (diameter, height) :  \n",
    "    diameter = float(diameter)\n",
    "    height = float(height)\n",
    "    \n",
    "    impact = agb.compute_impacts(complete_system,methods_EF, h= height,d = diameter,steel_mix = 'Converter',functional_unit=FU(diameter, height))\n",
    "    s_score = lca_single_score(impact, NF, WF)[2]\n",
    "    aep = FU_numeric(diameter, height)\n",
    "    return locals().items()"
   ]
  },
  {
   "cell_type": "code",
   "execution_count": null,
   "id": "8e1a52c9-b812-43a5-b20a-46bad0ebb44c",
   "metadata": {},
   "outputs": [],
   "source": [
    "from noload.analyse.simulation import computeParametric\n",
    "inputs={'diameter':4200}\n",
    "variable = 'height'\n",
    "values = np.linspace (12,30,10)\n",
    "outputs=['s_score']\n",
    "\n",
    "iter = computeParametric (impact_1score,variable,values,inputs,outputs)\n",
    "iter.plotXY()\n",
    "\n"
   ]
  },
  {
   "cell_type": "code",
   "execution_count": null,
   "id": "63801699-48ff-4de5-91d0-b5074c1741f8",
   "metadata": {},
   "outputs": [],
   "source": [
    "from noload.analyse.simulation import computeParametric\n",
    "inputs={'height':20}\n",
    "variable = 'diameter'\n",
    "values = np.linspace (1800,4200,10)\n",
    "outputs=['s_score']\n",
    "\n",
    "iter = computeParametric (impact_1score,variable,values,inputs,outputs)\n",
    "iter.plotXY()\n",
    "\n"
   ]
  },
  {
   "cell_type": "code",
   "execution_count": null,
   "id": "9c69829f-7fa9-4fd3-ac6d-11c1ae314c40",
   "metadata": {
    "scrolled": true
   },
   "outputs": [],
   "source": [
    "from noload.optimization.optimProblem import Spec, OptimProblem\n",
    "\n",
    "\n",
    "spec_Sscore = Spec(variables={'height':15.0,'diameter':2400}, bounds={'height': [12, 30],'diameter':[1800,4200]},\n",
    "            objectives={'s_score':[0,1]})\n",
    "optim_Sscore = OptimProblem(model = impact_1score,specifications = spec_Sscore)\n",
    "result_Sscore = optim_Sscore.run(ftol = 1e-8, method = 'stochastic')\n",
    "\n",
    "result_Sscore.printResults()\n",
    "result_Sscore.plotResults()"
   ]
  },
  {
   "cell_type": "markdown",
   "id": "33a7a1b0-1b49-4f3a-b477-f14ae5258c74",
   "metadata": {},
   "source": [
    "### Optimal need"
   ]
  },
  {
   "cell_type": "code",
   "execution_count": null,
   "id": "7c971517-cd63-4516-8642-e0f50f6465d7",
   "metadata": {
    "scrolled": true
   },
   "outputs": [],
   "source": [
    "from noload.optimization.optimProblem import Spec, OptimProblem\n",
    "# mapping of the optimal single score in function of energy need for one given spot (v_ref, z_0)\n",
    "v_ref = 5.0\n",
    "z0 = 0.5\n",
    "v=int(v_ref)\n",
    "z = int(z0*10)\n",
    "\n",
    "annual_needs = [600, 1100, 1600, 2100, 2600, 3100, 3600, 4100, 4600,5100,5600]\n",
    "\n",
    "\n",
    "result_optimneed_df = pd.DataFrame(columns=['h','d','NrjNeed','Production','SingleScore/kWh', 'Single score (absolute)'])\n",
    "\n",
    "for annual_need in annual_needs : \n",
    "    nrj_need = annual_need*lifetime\n",
    "    spec_Sscore_nrjneed = Spec(variables={'height':15.0,'diameter':2400}, bounds={'height': [12, 30],'diameter':[1800,4200]},\n",
    "                objectives={'s_score':[0,1]}, ineq_cstr={'aep':[nrj_need*0.95,nrj_need*1.05]})\n",
    "    optim_Sscore_nrjneed = OptimProblem(model = impact_1score,specifications = spec_Sscore_nrjneed)\n",
    "    result_Sscore_nrjneed = optim_Sscore_nrjneed.run(ftol = 1e-7, method = 'stochastic')\n",
    "    h_opt = result_Sscore_nrjneed.getLastInputs()['height']\n",
    "    d_opt = result_Sscore_nrjneed.getLastInputs()['diameter']\n",
    "    score_opt = result_Sscore_nrjneed.getLastOutputs()['s_score']\n",
    "    prod_opt = result_Sscore_nrjneed.getLastOutputs()['aep']\n",
    "    impacts_abs_df=agb.compute_impacts(model=complete_system, methods_EF, d=d_opt, h=h_opt, steel_mix=\"converter\")\n",
    "    score_abs=lca_single_score(impact_abs_df, NF, WF)[2]\n",
    "\n",
    "    result_optimneed_df.loc[len(result_optimneed_df)] = [h_opt, d_opt, nrj_need, prod_opt, score_opt, score_abs]\n",
    "\n"
   ]
  },
  {
   "cell_type": "code",
   "execution_count": null,
   "id": "0ec6454d",
   "metadata": {},
   "outputs": [],
   "source": [
    "result_optimneed_df.to_excel(f\"results/optimneed_{v}_0{z}.xlsx\")\n",
    "result_optimneed_df"
   ]
  },
  {
   "cell_type": "code",
   "execution_count": null,
   "id": "3006eddc-d4fc-4f20-b268-12b18ecd49ef",
   "metadata": {
    "scrolled": true
   },
   "outputs": [],
   "source": [
    "\n",
    "from noload.optimization.optimProblem import Spec, OptimProblem\n",
    "\n",
    "nrj_need = 500*lifetime\n",
    "\n",
    "spec_Sscore = Spec(variables={'height':15.0,'diameter':2400}, bounds={'height': [12, 30],'diameter':[1800,4200]},\n",
    "            objectives={'s_score':[0,100]},\n",
    "           ineq_cstr={'aep':[nrj_need-10,nrj_need+10]})\n",
    "optim_Sscore = OptimProblem(model = impact_1score,specifications = spec_Sscore)\n",
    "result_Sscore = optim_Sscore.run(ftol = 1e-7, method = 'stochastic')\n",
    "\n",
    "result_Sscore.printResults()"
   ]
  },
  {
   "cell_type": "code",
   "execution_count": null,
   "id": "4061edfb-d880-4bc6-a9a2-53942897a9b5",
   "metadata": {},
   "outputs": [],
   "source": [
    "result_Sscore.plotResults()"
   ]
  },
  {
   "cell_type": "markdown",
   "id": "8b9d986f-2b3d-4777-8d59-05bc393daa51",
   "metadata": {},
   "source": [
    "## Minimization of the global warming impact"
   ]
  },
  {
   "cell_type": "code",
   "execution_count": null,
   "id": "1b73b88e-894f-46c1-aae5-3ef473d54a18",
   "metadata": {},
   "outputs": [],
   "source": [
    "def impact_CO2 (diameter, height) :  \n",
    "    diameter = float(diameter)\n",
    "    height = float(height)\n",
    "    \n",
    "    impact = agb.compute_impacts(complete_system,methods_EF, h= height,d = diameter,steel_mix = \"Converter\",functional_unit=FU(diameter, height))\n",
    "    impact_CO2 = impact['climate change - global warming potential (GWP100)[kg CO2-Eq]'].iloc[0]\n",
    "    aep = FU_numeric(diameter, height)\n",
    "    return locals().items()\n",
    "\n",
    "\n",
    "spec_CO2 = Spec(variables={'height':15.0,'diameter':2400}, bounds={'height': [12, 30],'diameter':[1800,4200]},\n",
    "            objectives={'impact_CO2':[0,1]})\n",
    "optim_CO2 = OptimProblem(model = impact_CO2,specifications = spec_CO2)\n",
    "result_CO2 = optim_CO2.run(ftol = 1e-7, method = 'stochastic')\n",
    "\n",
    "result_CO2.printResults()"
   ]
  },
  {
   "cell_type": "code",
   "execution_count": null,
   "id": "0cd7f18a-a811-445c-92bb-5f00c75e73ee",
   "metadata": {},
   "outputs": [],
   "source": [
    "result_CO2.plotResults()"
   ]
  },
  {
   "cell_type": "markdown",
   "id": "5fc0a648-0845-44d6-8e08-0ae160dfb2f1",
   "metadata": {},
   "source": [
    "## Minimization of the abiotic depletion ressources"
   ]
  },
  {
   "cell_type": "code",
   "execution_count": null,
   "id": "601dcc40-dbe9-4f43-ad45-a6d800197eef",
   "metadata": {},
   "outputs": [],
   "source": [
    "def impact_ADP (diameter, height) :  \n",
    "    diameter = float(diameter)\n",
    "    height = float(height)\n",
    "    \n",
    "    impact = agb.compute_impacts(complete_system,methods_EF, h= height,d = diameter,steel_mix = \"Converter\",functional_unit=FU(diameter, height))\n",
    "    impact_ADP = impact['material resources: metals/minerals - abiotic depletion potential (ADP): elements (ultimate reserves)[kg Sb-Eq]'].iloc[0]\n",
    "    aep = FU_numeric(diameter, height)\n",
    "    return locals().items()\n",
    "\n",
    "\n",
    "spec_ADP = Spec(variables={'height':15.0,'diameter':2400}, bounds={'height': [12, 30],'diameter':[1800,4200]},\n",
    "            objectives={'impact_ADP':[0,1]})\n",
    "optim_ADP = OptimProblem(model = impact_ADP,specifications = spec_ADP)\n",
    "result_ADP = optim_ADP.run(ftol = 1e-7, method = 'stochastic')\n",
    "\n",
    "result_ADP.printResults()"
   ]
  },
  {
   "cell_type": "code",
   "execution_count": null,
   "id": "4cd10713-65a3-4fe3-8fe2-0f85ee7d88fb",
   "metadata": {},
   "outputs": [],
   "source": [
    "result_ADP.plotResults()"
   ]
  },
  {
   "cell_type": "markdown",
   "id": "6f28d29f-8d23-40de-bdc0-3d544ebd31c8",
   "metadata": {},
   "source": [
    "## Double objectif"
   ]
  },
  {
   "cell_type": "markdown",
   "id": "3feee51c-ea55-40e4-87a7-7ccf6efba394",
   "metadata": {},
   "source": [
    "The aim of this part is to be able to generate pareto fronts to find a compromise between two objectives. It is not functional yet since bi-objective optimization with stochastic algorithms is not yet implemented in NoLoad.\n",
    "\n",
    "```\n",
    "import noload.gui.plotPareto as pp\n",
    "\n",
    "def impact_dobj (diameter, height) :  \n",
    "    diameter = float(diameter)\n",
    "    height = float(height)\n",
    "    \n",
    "    impact = agb.compute_impacts(complete_system,methods_EF, h= height,d = diameter,steel_mix = \"Converter\",functional_unit=FU(diameter, height))\n",
    "    impact_ADP = impact['material resources: metals/minerals - abiotic depletion potential (ADP): elements (ultimate reserves)[kg Sb-Eq]'].iloc[0]\n",
    "    impact_CO2 = impact['climate change - global warming potential (GWP100)[kg CO2-Eq]'].iloc[0]\n",
    "    return locals().items()\n",
    "\n",
    "```"
   ]
  },
  {
   "cell_type": "markdown",
   "id": "43b3d833-d043-4604-aa32-ad3b73457e00",
   "metadata": {},
   "source": [
    "spec_dobj = Spec(variables={'height':15.0,'diameter':2400}, bounds={'height': [12, 30],'diameter':[1800,4200]},\n",
    "            objectives={'impact_ADP':[0,1],'impact_CO2':[0,1]})\n",
    "optim_dobj = OptimProblem(model = impact_dobj,specifications = spec_dobj)\n",
    "result_dobj = optim_dobj.run(ftol = 1e-7, method = 'stochastic')"
   ]
  },
  {
   "cell_type": "markdown",
   "id": "08d23c4d-9cf7-42ad-8ec8-d43dce1a9fb5",
   "metadata": {},
   "source": [
    "result_dobj.printResults()"
   ]
  },
  {
   "cell_type": "markdown",
   "id": "548d1dd7-d135-4714-a1e0-f8136d914bbe",
   "metadata": {},
   "source": [
    "inp,out=result_dobj.getIteration(400)\n",
    "print('inp=',inp)\n",
    "print('out=',out)"
   ]
  },
  {
   "cell_type": "markdown",
   "id": "981ef19b-bf9d-4cfa-9135-038be37f15d9",
   "metadata": {},
   "source": [
    "pp.plot([result_dobj.resultsHandler],['impact_ADP', 'impact_CO2'],['5points'],'Pareto Front',spec_dobj,0,True)"
   ]
  },
  {
   "cell_type": "markdown",
   "id": "2ed6fb6a-2041-47c3-96af-6eaa7ee12ac7",
   "metadata": {},
   "source": [
    "## Minimization of the mass per functional unit"
   ]
  },
  {
   "cell_type": "code",
   "execution_count": null,
   "id": "7b1eda0e-2903-4752-bf87-31096aa2b602",
   "metadata": {},
   "outputs": [],
   "source": [
    "def mass_system (diameter, height) :  \n",
    "    diameter = float(diameter)\n",
    "    height = float(height)\n",
    "    \n",
    "    inventory = agb.compute_inventory(complete_system, h= height,d = diameter,steel_mix = \"Converter\")\n",
    "    mass_total = inventory[inventory['unit'] == 'kilogram']['value'].sum()\n",
    "    aep = FU_numeric(diameter, height)\n",
    "    mass_per_kWh = mass_total/aep\n",
    "    return locals().items()\n",
    "\n",
    "\n",
    "spec_mass = Spec(variables={'height':15.0,'diameter':2400}, bounds={'height': [12, 30],'diameter':[1800,4200]},\n",
    "            objectives={'mass_per_kWh':[0,100]})\n",
    "optim_mass = OptimProblem(model = mass_system,specifications = spec_mass)\n",
    "result_mass = optim_mass.run(ftol = 1, method = 'stochastic')\n",
    "\n",
    "result_mass.printResults()\n"
   ]
  },
  {
   "cell_type": "code",
   "execution_count": null,
   "id": "6ad310c5-a126-46c7-922f-950195b631d7",
   "metadata": {},
   "outputs": [],
   "source": [
    "result_mass.plotResults()"
   ]
  },
  {
   "cell_type": "markdown",
   "id": "c201f7a1-32b8-4a46-a3d8-7d5e521d2ce4",
   "metadata": {},
   "source": [
    "# Back to the LCA"
   ]
  },
  {
   "cell_type": "markdown",
   "id": "6c59728d-1ed5-4336-839d-75f0e219793d",
   "metadata": {},
   "source": [
    "## LCA of the single score per functional unit optimization "
   ]
  },
  {
   "cell_type": "markdown",
   "id": "33489448-49fb-468d-be86-8be76c7bbf5f",
   "metadata": {},
   "source": [
    "### Absolute impacts"
   ]
  },
  {
   "cell_type": "code",
   "execution_count": null,
   "id": "dc02bae6-52d6-4e79-9ab8-109b77049598",
   "metadata": {},
   "outputs": [],
   "source": [
    "h_1score = result_Sscore.getLastInputs()['height']\n",
    "d_1score = result_Sscore.getLastInputs()['diameter']\n",
    "min_1score_abs = agb.compute_impacts(complete_system,methods=methods_EF,h=h_1score,d=d_1score,steel_mix = 'Converter')\n",
    "min_1score_abs_1score = lca_single_score(min_1score_abs,NF,WF)[2]\n",
    "\n",
    "print(\"single score = \",min_1score_abs_1score)\n",
    "min_1score_abs[impact3]"
   ]
  },
  {
   "cell_type": "markdown",
   "id": "e7e633d2-6df9-420a-b4aa-3f6a5d2aa9f4",
   "metadata": {},
   "source": [
    "### Impact per functional unit"
   ]
  },
  {
   "cell_type": "code",
   "execution_count": null,
   "id": "0f27bb3e-d79d-4fb9-a497-1b707cd9651c",
   "metadata": {},
   "outputs": [],
   "source": [
    "min_1score_fu = agb.compute_impacts(complete_system,methods=methods_EF,h=h_1score,d=d_1score,steel_mix = 'Converter',functional_unit=FU(d,h))\n",
    "min_1score_fu_1score = lca_single_score(min_1score_fu,NF,WF)[2]\n",
    "\n",
    "print(\"single score = \",min_1score_fu_1score)\n",
    "min_1score_fu[impact3]"
   ]
  },
  {
   "cell_type": "markdown",
   "id": "818f1ff3-a675-4a83-9a0d-d63e6135a364",
   "metadata": {},
   "source": [
    "## LCA of the global warming per functional unit optimization "
   ]
  },
  {
   "cell_type": "markdown",
   "id": "f966ba03-b1fc-425d-851a-f519593ae641",
   "metadata": {},
   "source": [
    "### Absolute impacts"
   ]
  },
  {
   "cell_type": "code",
   "execution_count": null,
   "id": "1ff7fcba-ca0b-4f8d-a38b-13e9eb7c53f1",
   "metadata": {},
   "outputs": [],
   "source": [
    "h_CO2 = result_CO2.getLastInputs()['height']\n",
    "d_CO2 = result_CO2.getLastInputs()['diameter']\n",
    "min_CO2_abs = agb.compute_impacts(complete_system,methods=methods_EF,h=h_CO2,d=d_CO2,steel_mix = 'Converter')\n",
    "min_CO2_abs_1score = lca_single_score(min_CO2_abs,NF,WF)[2]\n",
    "\n",
    "print(\"single score = \",min_CO2_abs_1score)\n",
    "min_CO2_abs[impact3]"
   ]
  },
  {
   "cell_type": "markdown",
   "id": "696f4b00-5851-40ae-9532-7354dab24c61",
   "metadata": {},
   "source": [
    "### Impact per functional unit"
   ]
  },
  {
   "cell_type": "code",
   "execution_count": null,
   "id": "cc480163-3b6e-4e30-bd28-d36fe288c6e7",
   "metadata": {},
   "outputs": [],
   "source": [
    "min_CO2_fu = agb.compute_impacts(complete_system,methods=methods_EF,h=h_CO2,d=d_CO2, steel_mix = 'Converter', functional_unit=FU(d,h))\n",
    "min_CO2_fu_1score = lca_single_score(min_CO2_fu,NF,WF)[2]\n",
    "\n",
    "print(\"single score = \",min_CO2_fu_1score)\n",
    "min_CO2_fu[impact3]"
   ]
  },
  {
   "cell_type": "markdown",
   "id": "89bcfc22-352b-4ba1-b2d7-6fc6e2adf47a",
   "metadata": {},
   "source": [
    "## LCA of abiotic depletion potential per functional unit optimization "
   ]
  },
  {
   "cell_type": "markdown",
   "id": "49c74ad1-6f1e-467d-ab6d-cfde3815dc6b",
   "metadata": {},
   "source": [
    "### Absolute impacts"
   ]
  },
  {
   "cell_type": "code",
   "execution_count": null,
   "id": "203c8e2d-10d2-4573-ad4a-1cc828d849f0",
   "metadata": {},
   "outputs": [],
   "source": [
    "h_ADP = result_ADP.getLastInputs()['height']\n",
    "d_ADP = result_ADP.getLastInputs()['diameter']\n",
    "min_ADP_abs = agb.compute_impacts(complete_system,methods=methods_EF,h=h_ADP,d=d_ADP,steel_mix = 'Converter')\n",
    "min_ADP_abs_1score = lca_single_score(min_ADP_abs,NF,WF)[2]\n",
    "\n",
    "print(\"single score = \",min_ADP_abs_1score)\n",
    "min_ADP_abs[impact3]"
   ]
  },
  {
   "cell_type": "markdown",
   "id": "6729401d-a63c-4ce8-b263-5e533d9ef62b",
   "metadata": {},
   "source": [
    "### Impact per functional unit"
   ]
  },
  {
   "cell_type": "code",
   "execution_count": null,
   "id": "3567941d-0003-4704-a84c-a94a3d19b1a8",
   "metadata": {},
   "outputs": [],
   "source": [
    "min_ADP_fu = agb.compute_impacts(complete_system,methods=methods_EF,h=h_ADP,d=d_ADP, steel_mix = 'Converter', functional_unit=FU(d,h))\n",
    "min_ADP_fu_1score = lca_single_score(min_ADP_fu,NF,WF)[2]\n",
    "\n",
    "print(\"single score = \",min_ADP_fu_1score)\n",
    "min_ADP_fu[impact3]"
   ]
  },
  {
   "cell_type": "markdown",
   "id": "7738bacc-3543-4cc2-9c5f-a7c92fc839b3",
   "metadata": {},
   "source": [
    "## LCA of the mass per functional unit optimization "
   ]
  },
  {
   "cell_type": "markdown",
   "id": "86b84331-1020-4ab9-93d4-d0cb9a0c78fc",
   "metadata": {},
   "source": [
    "### Absolute impacts"
   ]
  },
  {
   "cell_type": "code",
   "execution_count": null,
   "id": "d5647626-033d-4154-b8f3-5ef83e95e49f",
   "metadata": {},
   "outputs": [],
   "source": [
    "h_mass = result_mass.getLastInputs()['height']\n",
    "d_mass = result_mass.getLastInputs()['diameter']\n",
    "min_mass_abs = agb.compute_impacts(complete_system,methods=methods_EF,h=h_mass,d=d_mass,steel_mix = 'Converter')\n",
    "min_mass_abs_1score = lca_single_score(min_mass_abs,NF,WF)[2]\n",
    "\n",
    "print(\"single score = \",min_mass_abs_1score)\n",
    "impact3 = most_important_impacts(min_mass_abs)[\"Impact\"][:3]\n",
    "min_mass_abs[impact3]"
   ]
  },
  {
   "cell_type": "markdown",
   "id": "08d0769f-75db-4dac-aef7-1efde47f1371",
   "metadata": {},
   "source": [
    "### Impact per functional unit"
   ]
  },
  {
   "cell_type": "code",
   "execution_count": null,
   "id": "6620d0ba-05d3-4791-b09d-2e91c7125132",
   "metadata": {},
   "outputs": [],
   "source": [
    "min_mass_fu = agb.compute_impacts(complete_system,methods=methods_EF,h=h_mass,d=d_mass, steel_mix = 'Converter', functional_unit=FU(d,h))\n",
    "min_mass_fu_1score = lca_single_score(min_mass_fu,NF,WF)[2]\n",
    "\n",
    "print(\"single score = \",min_mass_fu_1score)\n",
    "min_mass_fu[impact3]"
   ]
  },
  {
   "cell_type": "markdown",
   "id": "868dd258-eed3-4d69-a11e-c19f574c879a",
   "metadata": {},
   "source": [
    "# Monte Carlo (not functional yet)"
   ]
  },
  {
   "cell_type": "code",
   "execution_count": null,
   "id": "0451ed9c-09bc-4844-8a65-49bd7549e9f1",
   "metadata": {},
   "outputs": [],
   "source": [
    "h_value = h_1score\n",
    "d_value = d_1score\n",
    "bi.export.write_lci_excel(DB_SYST)"
   ]
  },
  {
   "cell_type": "code",
   "execution_count": null,
   "id": "83efc306-24d6-459a-b155-8ff5a1ed8273",
   "metadata": {},
   "outputs": [],
   "source": [
    "import openpyxl\n",
    "import os\n",
    "import math\n",
    "\n",
    "def evaluate_formula(formula, h=None, d=None):\n",
    "    allowed_vars = {\n",
    "        \"h\": h,\n",
    "        \"d\": d,\n",
    "        \"pi\": math.pi  # allow pi usage in formula\n",
    "    }\n",
    "    if not isinstance(formula, str):\n",
    "        return None\n",
    "    try:\n",
    "        return eval(formula, {\"__builtins__\": None}, allowed_vars)\n",
    "    except Exception as e:\n",
    "        print(f\"Error evaluating formula: {formula} → {e}\")\n",
    "        return None\n",
    "\n",
    "def update_excel_with_results(input_path, h_val=None, d_val=None):\n",
    "    wb = openpyxl.load_workbook(input_path)\n",
    "\n",
    "    for sheet in wb.worksheets:\n",
    "        # Try finding headers\n",
    "        header_row = None\n",
    "        for row in sheet.iter_rows(min_row=1, values_only=True):\n",
    "            if row:\n",
    "                headers = list(row)\n",
    "                if \"formula\" in headers and \"amount\" in headers:\n",
    "                    formula_idx = headers.index(\"formula\")\n",
    "                    amount_idx = headers.index(\"amount\")\n",
    "                    header_row = headers\n",
    "                    break\n",
    "\n",
    "        if header_row:\n",
    "            header_row_idx = sheet.iter_rows(min_row=1, max_row=1).__next__()[0].row\n",
    "            for row in sheet.iter_rows(min_row=header_row_idx + 1):\n",
    "                formula_cell = row[formula_idx]\n",
    "                amount_cell = row[amount_idx]\n",
    "\n",
    "                # Evaluate only if it's a formula string\n",
    "                if formula_cell.value and isinstance(formula_cell.value, str):\n",
    "                    result = evaluate_formula(formula_cell.value, h=h_val, d=d_val)\n",
    "                    if result is not None:\n",
    "                        amount_cell.value = result\n",
    "\n",
    "    # Save updated workbook to current working directory\n",
    "    output_filename = \"lci-bdd_syst_updated.xlsx\"\n",
    "    output_path = os.path.join(os.getcwd(), output_filename)\n",
    "    wb.save(output_path)\n",
    "    print(f\"Updated file saved as: {output_path}\")\n",
    "\n",
    "input_file_path = bi.export.write_lci_excel(DB_SYST)\n",
    "h_value = h_1score\n",
    "d_value = d_1score\n",
    "\n",
    "update_excel_with_results(input_file_path, h_val=h_value, d_val=d_value)"
   ]
  },
  {
   "cell_type": "code",
   "execution_count": null,
   "id": "66f6889d-e2d5-42e1-acf8-656b3e0bb41f",
   "metadata": {},
   "outputs": [],
   "source": [
    "def multiImpactMonteCarloLCA(functional_unit, list_methods, iterations):\n",
    "    # Step 1\n",
    "    MC_lca = bc.MonteCarloLCA(functional_unit)\n",
    "    MC_lca.lci()\n",
    "    # Step 2\n",
    "    C_matrices = {}\n",
    "    # Step 3\n",
    "    for method in list_methods:\n",
    "        MC_lca.switch_method(method)\n",
    "        C_matrices[method] = MC_lca.characterization_matrix\n",
    "        # Step 4\n",
    "        results = np.empty((len(list_methods), iterations))\n",
    "    # Step 5\n",
    "    for iteration in range(iterations):\n",
    "        next(MC_lca)\n",
    "        for method_index, method in enumerate(list_methods):\n",
    "            results[method_index, iteration] = (C_matrices[method]*MC_lca.inventory).sum()\n",
    "    return results"
   ]
  },
  {
   "cell_type": "code",
   "execution_count": null,
   "id": "5cc9f6ba-5b61-43e9-bbab-c81b013b7f5f",
   "metadata": {},
   "outputs": [],
   "source": [
    "short_impact = [methods_EF[11],methods_EF[1],methods_EF[3],methods_EF[4],methods_EF[2]]\n",
    "mc_complete_system = multiImpactMonteCarloLCA({complete_system:1},short_impact,1000)"
   ]
  },
  {
   "cell_type": "code",
   "execution_count": null,
   "id": "1d0b69f9-bfaf-4534-bd4e-a314b453ad09",
   "metadata": {},
   "outputs": [],
   "source": [
    "plot_impacts =  [\"material resources [kg Sb-Eq]\",\n",
    "    \"climate change [kg CO2-Eq]\",\n",
    "    \"energy resources: non-renewable [MJ, net calorific value]\",\n",
    "    \"human toxicity: non-carcinogenic [CTUh]\",\n",
    "    \"ecotoxicity: freshwater [CTUe]\"]\n",
    "\n",
    "\n",
    "df = pd.DataFrame(index=plot_impacts,data = mc_complete_system)\n",
    "df"
   ]
  },
  {
   "cell_type": "code",
   "execution_count": null,
   "id": "4c18e21e-0d81-4477-a825-a71c0ded84bf",
   "metadata": {},
   "outputs": [],
   "source": [
    "df.T.hist(figsize=(20,20),layout=[3,2])\n",
    "plt.ylabel('iterations')\n",
    "plt.xlabel('scores')"
   ]
  },
  {
   "cell_type": "code",
   "execution_count": null,
   "id": "c35750be-9992-4edc-8d20-889892fc6b37",
   "metadata": {},
   "outputs": [],
   "source": []
  },
  {
   "cell_type": "code",
   "execution_count": null,
   "id": "a166f3ea-1a58-4ed6-85f5-9fcc0ecefe87",
   "metadata": {},
   "outputs": [],
   "source": []
  },
  {
   "cell_type": "code",
   "execution_count": null,
   "id": "190f90a8-9180-4f1a-938d-9b8f3cddb21b",
   "metadata": {},
   "outputs": [],
   "source": []
  }
 ],
 "metadata": {
  "kernelspec": {
   "display_name": "ab",
   "language": "python",
   "name": "python3"
  },
  "language_info": {
   "codemirror_mode": {
    "name": "ipython",
    "version": 3
   },
   "file_extension": ".py",
   "mimetype": "text/x-python",
   "name": "python",
   "nbconvert_exporter": "python",
   "pygments_lexer": "ipython3",
   "version": "3.11.13"
  }
 },
 "nbformat": 4,
 "nbformat_minor": 5
}
